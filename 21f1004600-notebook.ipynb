{
 "cells": [
  {
   "cell_type": "code",
   "execution_count": 1,
   "id": "c3b2ea9b",
   "metadata": {
    "_cell_guid": "b1076dfc-b9ad-4769-8c92-a6c4dae69d19",
    "_uuid": "8f2839f25d086af736a60e9eeb907d3b93b6e0e5",
    "execution": {
     "iopub.execute_input": "2023-04-03T16:46:32.588303Z",
     "iopub.status.busy": "2023-04-03T16:46:32.587597Z",
     "iopub.status.idle": "2023-04-03T16:46:32.604616Z",
     "shell.execute_reply": "2023-04-03T16:46:32.603117Z"
    },
    "papermill": {
     "duration": 0.045065,
     "end_time": "2023-04-03T16:46:32.608684",
     "exception": false,
     "start_time": "2023-04-03T16:46:32.563619",
     "status": "completed"
    },
    "tags": []
   },
   "outputs": [
    {
     "name": "stdout",
     "output_type": "stream",
     "text": [
      "/kaggle/input/e-commerce-shoppers-behaviour-understanding/test_data_v2.csv\n",
      "/kaggle/input/e-commerce-shoppers-behaviour-understanding/train_data_v2.csv\n",
      "/kaggle/input/e-commerce-shoppers-behaviour-understanding/sample.csv\n"
     ]
    }
   ],
   "source": [
    "# This Python 3 environment comes with many helpful analytics libraries installed\n",
    "# It is defined by the kaggle/python Docker image: https://github.com/kaggle/docker-python\n",
    "# For example, here's several helpful packages to load\n",
    "\n",
    "import numpy as np # linear algebra\n",
    "import pandas as pd # data processing, CSV file I/O (e.g. pd.read_csv)\n",
    "\n",
    "# Input data files are available in the read-only \"../input/\" directory\n",
    "# For example, running this (by clicking run or pressing Shift+Enter) will list all files under the input directory\n",
    "\n",
    "import os\n",
    "for dirname, _, filenames in os.walk('/kaggle/input'):\n",
    "    for filename in filenames:\n",
    "        print(os.path.join(dirname, filename))\n",
    "\n",
    "# You can write up to 20GB to the current directory (/kaggle/working/) that gets preserved as output when you create a version using \"Save & Run All\" \n",
    "# You can also write temporary files to /kaggle/temp/, but they won't be saved outside of the current session"
   ]
  },
  {
   "cell_type": "code",
   "execution_count": 2,
   "id": "b0972936",
   "metadata": {
    "execution": {
     "iopub.execute_input": "2023-04-03T16:46:32.654411Z",
     "iopub.status.busy": "2023-04-03T16:46:32.653920Z",
     "iopub.status.idle": "2023-04-03T16:46:32.659129Z",
     "shell.execute_reply": "2023-04-03T16:46:32.657867Z"
    },
    "papermill": {
     "duration": 0.030063,
     "end_time": "2023-04-03T16:46:32.661754",
     "exception": false,
     "start_time": "2023-04-03T16:46:32.631691",
     "status": "completed"
    },
    "tags": []
   },
   "outputs": [],
   "source": [
    "import os\n",
    "import numpy as np\n",
    "import pandas as pd"
   ]
  },
  {
   "cell_type": "markdown",
   "id": "8ccf2b1d",
   "metadata": {
    "papermill": {
     "duration": 0.020091,
     "end_time": "2023-04-03T16:46:32.702223",
     "exception": false,
     "start_time": "2023-04-03T16:46:32.682132",
     "status": "completed"
    },
    "tags": []
   },
   "source": [
    "Load Data"
   ]
  },
  {
   "cell_type": "code",
   "execution_count": 3,
   "id": "9fe78f63",
   "metadata": {
    "execution": {
     "iopub.execute_input": "2023-04-03T16:46:32.745179Z",
     "iopub.status.busy": "2023-04-03T16:46:32.744706Z",
     "iopub.status.idle": "2023-04-03T16:46:32.912212Z",
     "shell.execute_reply": "2023-04-03T16:46:32.910483Z"
    },
    "papermill": {
     "duration": 0.193213,
     "end_time": "2023-04-03T16:46:32.915656",
     "exception": false,
     "start_time": "2023-04-03T16:46:32.722443",
     "status": "completed"
    },
    "tags": []
   },
   "outputs": [],
   "source": [
    "train_df = pd.read_csv(\"/kaggle/input/e-commerce-shoppers-behaviour-understanding/train_data_v2.csv\")\n",
    "test_df = pd.read_csv(\"/kaggle/input/e-commerce-shoppers-behaviour-understanding/test_data_v2.csv\")"
   ]
  },
  {
   "cell_type": "markdown",
   "id": "d7b73031",
   "metadata": {
    "papermill": {
     "duration": 0.02019,
     "end_time": "2023-04-03T16:46:32.957464",
     "exception": false,
     "start_time": "2023-04-03T16:46:32.937274",
     "status": "completed"
    },
    "tags": []
   },
   "source": [
    "Dimensions of the array"
   ]
  },
  {
   "cell_type": "code",
   "execution_count": 4,
   "id": "3f9f8c22",
   "metadata": {
    "execution": {
     "iopub.execute_input": "2023-04-03T16:46:33.001235Z",
     "iopub.status.busy": "2023-04-03T16:46:33.000739Z",
     "iopub.status.idle": "2023-04-03T16:46:33.010188Z",
     "shell.execute_reply": "2023-04-03T16:46:33.008483Z"
    },
    "papermill": {
     "duration": 0.035829,
     "end_time": "2023-04-03T16:46:33.013514",
     "exception": false,
     "start_time": "2023-04-03T16:46:32.977685",
     "status": "completed"
    },
    "tags": []
   },
   "outputs": [
    {
     "data": {
      "text/plain": [
       "(14731, 22)"
      ]
     },
     "execution_count": 4,
     "metadata": {},
     "output_type": "execute_result"
    }
   ],
   "source": [
    "train_df.shape"
   ]
  },
  {
   "cell_type": "markdown",
   "id": "baee50ed",
   "metadata": {
    "papermill": {
     "duration": 0.019999,
     "end_time": "2023-04-03T16:46:33.054374",
     "exception": false,
     "start_time": "2023-04-03T16:46:33.034375",
     "status": "completed"
    },
    "tags": []
   },
   "source": []
  },
  {
   "cell_type": "code",
   "execution_count": 5,
   "id": "382d8d0b",
   "metadata": {
    "execution": {
     "iopub.execute_input": "2023-04-03T16:46:33.099592Z",
     "iopub.status.busy": "2023-04-03T16:46:33.099079Z",
     "iopub.status.idle": "2023-04-03T16:46:33.152940Z",
     "shell.execute_reply": "2023-04-03T16:46:33.151490Z"
    },
    "papermill": {
     "duration": 0.07916,
     "end_time": "2023-04-03T16:46:33.155991",
     "exception": false,
     "start_time": "2023-04-03T16:46:33.076831",
     "status": "completed"
    },
    "tags": []
   },
   "outputs": [
    {
     "data": {
      "text/html": [
       "<div>\n",
       "<style scoped>\n",
       "    .dataframe tbody tr th:only-of-type {\n",
       "        vertical-align: middle;\n",
       "    }\n",
       "\n",
       "    .dataframe tbody tr th {\n",
       "        vertical-align: top;\n",
       "    }\n",
       "\n",
       "    .dataframe thead th {\n",
       "        text-align: right;\n",
       "    }\n",
       "</style>\n",
       "<table border=\"1\" class=\"dataframe\">\n",
       "  <thead>\n",
       "    <tr style=\"text-align: right;\">\n",
       "      <th></th>\n",
       "      <th>HomePage</th>\n",
       "      <th>HomePage_Duration</th>\n",
       "      <th>LandingPage</th>\n",
       "      <th>LandingPage_Duration</th>\n",
       "      <th>ProductDescriptionPage</th>\n",
       "      <th>ProductDescriptionPage_Duration</th>\n",
       "      <th>GoogleMetric:Bounce Rates</th>\n",
       "      <th>GoogleMetric:Exit Rates</th>\n",
       "      <th>GoogleMetric:Page Values</th>\n",
       "      <th>SeasonalPurchase</th>\n",
       "      <th>...</th>\n",
       "      <th>SearchEngine</th>\n",
       "      <th>Zone</th>\n",
       "      <th>Type of Traffic</th>\n",
       "      <th>CustomerType</th>\n",
       "      <th>Gender</th>\n",
       "      <th>Cookies Setting</th>\n",
       "      <th>Education</th>\n",
       "      <th>Marital Status</th>\n",
       "      <th>WeekendPurchase</th>\n",
       "      <th>Made_Purchase</th>\n",
       "    </tr>\n",
       "  </thead>\n",
       "  <tbody>\n",
       "    <tr>\n",
       "      <th>0</th>\n",
       "      <td>0.0</td>\n",
       "      <td>0.0</td>\n",
       "      <td>0.0</td>\n",
       "      <td>0.0</td>\n",
       "      <td>1.0</td>\n",
       "      <td>0.000000</td>\n",
       "      <td>0.20</td>\n",
       "      <td>0.20</td>\n",
       "      <td>0.0</td>\n",
       "      <td>0.0</td>\n",
       "      <td>...</td>\n",
       "      <td>1.0</td>\n",
       "      <td>9.0</td>\n",
       "      <td>3.0</td>\n",
       "      <td>Returning_Visitor</td>\n",
       "      <td>Not Specified</td>\n",
       "      <td>Deny</td>\n",
       "      <td>Not Specified</td>\n",
       "      <td>Other</td>\n",
       "      <td>0.0</td>\n",
       "      <td>False</td>\n",
       "    </tr>\n",
       "    <tr>\n",
       "      <th>1</th>\n",
       "      <td>0.0</td>\n",
       "      <td>0.0</td>\n",
       "      <td>0.0</td>\n",
       "      <td>0.0</td>\n",
       "      <td>2.0</td>\n",
       "      <td>2.666667</td>\n",
       "      <td>0.05</td>\n",
       "      <td>0.14</td>\n",
       "      <td>0.0</td>\n",
       "      <td>0.0</td>\n",
       "      <td>...</td>\n",
       "      <td>2.0</td>\n",
       "      <td>2.0</td>\n",
       "      <td>4.0</td>\n",
       "      <td>Returning_Visitor</td>\n",
       "      <td>Female</td>\n",
       "      <td>Deny</td>\n",
       "      <td>Others</td>\n",
       "      <td>Married</td>\n",
       "      <td>0.0</td>\n",
       "      <td>False</td>\n",
       "    </tr>\n",
       "    <tr>\n",
       "      <th>2</th>\n",
       "      <td>0.0</td>\n",
       "      <td>0.0</td>\n",
       "      <td>0.0</td>\n",
       "      <td>0.0</td>\n",
       "      <td>10.0</td>\n",
       "      <td>627.500000</td>\n",
       "      <td>0.02</td>\n",
       "      <td>0.05</td>\n",
       "      <td>0.0</td>\n",
       "      <td>0.0</td>\n",
       "      <td>...</td>\n",
       "      <td>3.0</td>\n",
       "      <td>1.0</td>\n",
       "      <td>4.0</td>\n",
       "      <td>Returning_Visitor</td>\n",
       "      <td>Female</td>\n",
       "      <td>ALL</td>\n",
       "      <td>Others</td>\n",
       "      <td>Married</td>\n",
       "      <td>1.0</td>\n",
       "      <td>False</td>\n",
       "    </tr>\n",
       "    <tr>\n",
       "      <th>3</th>\n",
       "      <td>0.0</td>\n",
       "      <td>0.0</td>\n",
       "      <td>0.0</td>\n",
       "      <td>0.0</td>\n",
       "      <td>1.0</td>\n",
       "      <td>0.000000</td>\n",
       "      <td>0.20</td>\n",
       "      <td>0.20</td>\n",
       "      <td>0.0</td>\n",
       "      <td>0.4</td>\n",
       "      <td>...</td>\n",
       "      <td>4.0</td>\n",
       "      <td>3.0</td>\n",
       "      <td>3.0</td>\n",
       "      <td>Returning_Visitor</td>\n",
       "      <td>Male</td>\n",
       "      <td>ALL</td>\n",
       "      <td>Diploma</td>\n",
       "      <td>Single</td>\n",
       "      <td>0.0</td>\n",
       "      <td>False</td>\n",
       "    </tr>\n",
       "    <tr>\n",
       "      <th>4</th>\n",
       "      <td>1.0</td>\n",
       "      <td>0.0</td>\n",
       "      <td>0.0</td>\n",
       "      <td>0.0</td>\n",
       "      <td>0.0</td>\n",
       "      <td>0.000000</td>\n",
       "      <td>0.20</td>\n",
       "      <td>0.20</td>\n",
       "      <td>0.0</td>\n",
       "      <td>0.0</td>\n",
       "      <td>...</td>\n",
       "      <td>2.0</td>\n",
       "      <td>1.0</td>\n",
       "      <td>5.0</td>\n",
       "      <td>Returning_Visitor</td>\n",
       "      <td>Male</td>\n",
       "      <td>Deny</td>\n",
       "      <td>Diploma</td>\n",
       "      <td>Other</td>\n",
       "      <td>1.0</td>\n",
       "      <td>False</td>\n",
       "    </tr>\n",
       "  </tbody>\n",
       "</table>\n",
       "<p>5 rows × 22 columns</p>\n",
       "</div>"
      ],
      "text/plain": [
       "   HomePage  HomePage_Duration  LandingPage  LandingPage_Duration  \\\n",
       "0       0.0                0.0          0.0                   0.0   \n",
       "1       0.0                0.0          0.0                   0.0   \n",
       "2       0.0                0.0          0.0                   0.0   \n",
       "3       0.0                0.0          0.0                   0.0   \n",
       "4       1.0                0.0          0.0                   0.0   \n",
       "\n",
       "   ProductDescriptionPage  ProductDescriptionPage_Duration  \\\n",
       "0                     1.0                         0.000000   \n",
       "1                     2.0                         2.666667   \n",
       "2                    10.0                       627.500000   \n",
       "3                     1.0                         0.000000   \n",
       "4                     0.0                         0.000000   \n",
       "\n",
       "   GoogleMetric:Bounce Rates  GoogleMetric:Exit Rates  \\\n",
       "0                       0.20                     0.20   \n",
       "1                       0.05                     0.14   \n",
       "2                       0.02                     0.05   \n",
       "3                       0.20                     0.20   \n",
       "4                       0.20                     0.20   \n",
       "\n",
       "   GoogleMetric:Page Values  SeasonalPurchase  ... SearchEngine  Zone  \\\n",
       "0                       0.0               0.0  ...          1.0   9.0   \n",
       "1                       0.0               0.0  ...          2.0   2.0   \n",
       "2                       0.0               0.0  ...          3.0   1.0   \n",
       "3                       0.0               0.4  ...          4.0   3.0   \n",
       "4                       0.0               0.0  ...          2.0   1.0   \n",
       "\n",
       "   Type of Traffic       CustomerType         Gender Cookies Setting  \\\n",
       "0              3.0  Returning_Visitor  Not Specified            Deny   \n",
       "1              4.0  Returning_Visitor         Female            Deny   \n",
       "2              4.0  Returning_Visitor         Female             ALL   \n",
       "3              3.0  Returning_Visitor           Male             ALL   \n",
       "4              5.0  Returning_Visitor           Male            Deny   \n",
       "\n",
       "       Education Marital Status WeekendPurchase Made_Purchase  \n",
       "0  Not Specified          Other             0.0         False  \n",
       "1         Others        Married             0.0         False  \n",
       "2         Others        Married             1.0         False  \n",
       "3        Diploma         Single             0.0         False  \n",
       "4        Diploma          Other             1.0         False  \n",
       "\n",
       "[5 rows x 22 columns]"
      ]
     },
     "execution_count": 5,
     "metadata": {},
     "output_type": "execute_result"
    }
   ],
   "source": [
    "train_df.head()"
   ]
  },
  {
   "cell_type": "code",
   "execution_count": 6,
   "id": "5128aef3",
   "metadata": {
    "execution": {
     "iopub.execute_input": "2023-04-03T16:46:33.201691Z",
     "iopub.status.busy": "2023-04-03T16:46:33.201168Z",
     "iopub.status.idle": "2023-04-03T16:46:33.211481Z",
     "shell.execute_reply": "2023-04-03T16:46:33.210006Z"
    },
    "papermill": {
     "duration": 0.036241,
     "end_time": "2023-04-03T16:46:33.214328",
     "exception": false,
     "start_time": "2023-04-03T16:46:33.178087",
     "status": "completed"
    },
    "tags": []
   },
   "outputs": [
    {
     "data": {
      "text/plain": [
       "HomePage                           float64\n",
       "HomePage_Duration                  float64\n",
       "LandingPage                        float64\n",
       "LandingPage_Duration               float64\n",
       "ProductDescriptionPage             float64\n",
       "ProductDescriptionPage_Duration    float64\n",
       "GoogleMetric:Bounce Rates          float64\n",
       "GoogleMetric:Exit Rates            float64\n",
       "GoogleMetric:Page Values           float64\n",
       "SeasonalPurchase                   float64\n",
       "Month_SeasonalPurchase              object\n",
       "OS                                 float64\n",
       "SearchEngine                       float64\n",
       "Zone                               float64\n",
       "Type of Traffic                    float64\n",
       "CustomerType                        object\n",
       "Gender                              object\n",
       "Cookies Setting                     object\n",
       "Education                           object\n",
       "Marital Status                      object\n",
       "WeekendPurchase                    float64\n",
       "Made_Purchase                         bool\n",
       "dtype: object"
      ]
     },
     "execution_count": 6,
     "metadata": {},
     "output_type": "execute_result"
    }
   ],
   "source": [
    "train_df.dtypes"
   ]
  },
  {
   "cell_type": "code",
   "execution_count": 7,
   "id": "b3a4457b",
   "metadata": {
    "execution": {
     "iopub.execute_input": "2023-04-03T16:46:33.259412Z",
     "iopub.status.busy": "2023-04-03T16:46:33.258934Z",
     "iopub.status.idle": "2023-04-03T16:46:33.275607Z",
     "shell.execute_reply": "2023-04-03T16:46:33.274184Z"
    },
    "papermill": {
     "duration": 0.042577,
     "end_time": "2023-04-03T16:46:33.278353",
     "exception": false,
     "start_time": "2023-04-03T16:46:33.235776",
     "status": "completed"
    },
    "tags": []
   },
   "outputs": [
    {
     "data": {
      "text/plain": [
       "False    9065\n",
       "True     5666\n",
       "Name: Made_Purchase, dtype: int64"
      ]
     },
     "execution_count": 7,
     "metadata": {},
     "output_type": "execute_result"
    }
   ],
   "source": [
    "train_df['Made_Purchase'].value_counts()"
   ]
  },
  {
   "cell_type": "code",
   "execution_count": 8,
   "id": "67cce061",
   "metadata": {
    "execution": {
     "iopub.execute_input": "2023-04-03T16:46:33.323763Z",
     "iopub.status.busy": "2023-04-03T16:46:33.323210Z",
     "iopub.status.idle": "2023-04-03T16:46:33.335903Z",
     "shell.execute_reply": "2023-04-03T16:46:33.334370Z"
    },
    "papermill": {
     "duration": 0.038984,
     "end_time": "2023-04-03T16:46:33.338948",
     "exception": false,
     "start_time": "2023-04-03T16:46:33.299964",
     "status": "completed"
    },
    "tags": []
   },
   "outputs": [
    {
     "data": {
      "text/plain": [
       "(5666, 22)"
      ]
     },
     "execution_count": 8,
     "metadata": {},
     "output_type": "execute_result"
    }
   ],
   "source": [
    "dft = train_df.loc[(train_df['Made_Purchase'] == True)]\n",
    "dft.shape"
   ]
  },
  {
   "cell_type": "code",
   "execution_count": 9,
   "id": "e6587c2c",
   "metadata": {
    "execution": {
     "iopub.execute_input": "2023-04-03T16:46:33.385261Z",
     "iopub.status.busy": "2023-04-03T16:46:33.384154Z",
     "iopub.status.idle": "2023-04-03T16:46:34.878172Z",
     "shell.execute_reply": "2023-04-03T16:46:34.876253Z"
    },
    "papermill": {
     "duration": 1.521225,
     "end_time": "2023-04-03T16:46:34.881871",
     "exception": false,
     "start_time": "2023-04-03T16:46:33.360646",
     "status": "completed"
    },
    "tags": []
   },
   "outputs": [],
   "source": [
    "from sklearn.impute import SimpleImputer\n",
    "from sklearn.preprocessing import StandardScaler, OneHotEncoder, MinMaxScaler, PowerTransformer, RobustScaler, QuantileTransformer, MaxAbsScaler\n",
    "import numpy as np\n",
    "from sklearn.impute import KNNImputer"
   ]
  },
  {
   "cell_type": "markdown",
   "id": "b0232b58",
   "metadata": {
    "papermill": {
     "duration": 0.020807,
     "end_time": "2023-04-03T16:46:34.924148",
     "exception": false,
     "start_time": "2023-04-03T16:46:34.903341",
     "status": "completed"
    },
    "tags": []
   },
   "source": [
    "Get Numeric columns"
   ]
  },
  {
   "cell_type": "code",
   "execution_count": 10,
   "id": "189504db",
   "metadata": {
    "execution": {
     "iopub.execute_input": "2023-04-03T16:46:34.970040Z",
     "iopub.status.busy": "2023-04-03T16:46:34.969519Z",
     "iopub.status.idle": "2023-04-03T16:46:34.985156Z",
     "shell.execute_reply": "2023-04-03T16:46:34.983634Z"
    },
    "papermill": {
     "duration": 0.042471,
     "end_time": "2023-04-03T16:46:34.987952",
     "exception": false,
     "start_time": "2023-04-03T16:46:34.945481",
     "status": "completed"
    },
    "tags": []
   },
   "outputs": [],
   "source": [
    "numeric_cols = train_df.select_dtypes(include=['float64', 'int64']).columns.tolist()"
   ]
  },
  {
   "cell_type": "markdown",
   "id": "ce269a23",
   "metadata": {
    "papermill": {
     "duration": 0.020799,
     "end_time": "2023-04-03T16:46:35.030103",
     "exception": false,
     "start_time": "2023-04-03T16:46:35.009304",
     "status": "completed"
    },
    "tags": []
   },
   "source": [
    "KNN imputer object"
   ]
  },
  {
   "cell_type": "code",
   "execution_count": 11,
   "id": "59664ba0",
   "metadata": {
    "execution": {
     "iopub.execute_input": "2023-04-03T16:46:35.076132Z",
     "iopub.status.busy": "2023-04-03T16:46:35.075631Z",
     "iopub.status.idle": "2023-04-03T16:46:35.081891Z",
     "shell.execute_reply": "2023-04-03T16:46:35.080522Z"
    },
    "papermill": {
     "duration": 0.033176,
     "end_time": "2023-04-03T16:46:35.084511",
     "exception": false,
     "start_time": "2023-04-03T16:46:35.051335",
     "status": "completed"
    },
    "tags": []
   },
   "outputs": [],
   "source": [
    "knn_imputer = KNNImputer(n_neighbors=10, missing_values=np.nan)"
   ]
  },
  {
   "cell_type": "markdown",
   "id": "de601ecd",
   "metadata": {
    "papermill": {
     "duration": 0.020732,
     "end_time": "2023-04-03T16:46:35.127155",
     "exception": false,
     "start_time": "2023-04-03T16:46:35.106423",
     "status": "completed"
    },
    "tags": []
   },
   "source": [
    "immpute missing values"
   ]
  },
  {
   "cell_type": "code",
   "execution_count": 12,
   "id": "d283951f",
   "metadata": {
    "execution": {
     "iopub.execute_input": "2023-04-03T16:46:35.173229Z",
     "iopub.status.busy": "2023-04-03T16:46:35.172692Z",
     "iopub.status.idle": "2023-04-03T16:46:37.795198Z",
     "shell.execute_reply": "2023-04-03T16:46:37.793656Z"
    },
    "papermill": {
     "duration": 2.649146,
     "end_time": "2023-04-03T16:46:37.798408",
     "exception": false,
     "start_time": "2023-04-03T16:46:35.149262",
     "status": "completed"
    },
    "tags": []
   },
   "outputs": [],
   "source": [
    "train_df[numeric_cols] = knn_imputer.fit_transform(train_df[numeric_cols])"
   ]
  },
  {
   "cell_type": "markdown",
   "id": "2b5f50ec",
   "metadata": {
    "papermill": {
     "duration": 0.022765,
     "end_time": "2023-04-03T16:46:37.843734",
     "exception": false,
     "start_time": "2023-04-03T16:46:37.820969",
     "status": "completed"
    },
    "tags": []
   },
   "source": [
    "Mean immputation"
   ]
  },
  {
   "cell_type": "code",
   "execution_count": 13,
   "id": "885c9ba1",
   "metadata": {
    "execution": {
     "iopub.execute_input": "2023-04-03T16:46:37.889417Z",
     "iopub.status.busy": "2023-04-03T16:46:37.888664Z",
     "iopub.status.idle": "2023-04-03T16:46:39.026575Z",
     "shell.execute_reply": "2023-04-03T16:46:39.024731Z"
    },
    "papermill": {
     "duration": 1.164579,
     "end_time": "2023-04-03T16:46:39.029737",
     "exception": false,
     "start_time": "2023-04-03T16:46:37.865158",
     "status": "completed"
    },
    "tags": []
   },
   "outputs": [],
   "source": [
    "train_df[numeric_cols] = knn_imputer.fit_transform(train_df[numeric_cols])\n",
    "test_df[numeric_cols] = knn_imputer.transform(test_df[numeric_cols])"
   ]
  },
  {
   "cell_type": "markdown",
   "id": "fec22b82",
   "metadata": {
    "papermill": {
     "duration": 0.020652,
     "end_time": "2023-04-03T16:46:39.071620",
     "exception": false,
     "start_time": "2023-04-03T16:46:39.050968",
     "status": "completed"
    },
    "tags": []
   },
   "source": [
    "Categorical columns"
   ]
  },
  {
   "cell_type": "code",
   "execution_count": 14,
   "id": "670c1817",
   "metadata": {
    "execution": {
     "iopub.execute_input": "2023-04-03T16:46:39.118820Z",
     "iopub.status.busy": "2023-04-03T16:46:39.117940Z",
     "iopub.status.idle": "2023-04-03T16:46:39.127380Z",
     "shell.execute_reply": "2023-04-03T16:46:39.125862Z"
    },
    "papermill": {
     "duration": 0.036684,
     "end_time": "2023-04-03T16:46:39.130273",
     "exception": false,
     "start_time": "2023-04-03T16:46:39.093589",
     "status": "completed"
    },
    "tags": []
   },
   "outputs": [],
   "source": [
    "cat_cols = train_df.select_dtypes(include=['object']).columns.tolist()"
   ]
  },
  {
   "cell_type": "markdown",
   "id": "060fff6e",
   "metadata": {
    "papermill": {
     "duration": 0.022616,
     "end_time": "2023-04-03T16:46:39.175339",
     "exception": false,
     "start_time": "2023-04-03T16:46:39.152723",
     "status": "completed"
    },
    "tags": []
   },
   "source": [
    "Create mode imputer object"
   ]
  },
  {
   "cell_type": "code",
   "execution_count": 15,
   "id": "6fcc85b9",
   "metadata": {
    "execution": {
     "iopub.execute_input": "2023-04-03T16:46:39.220734Z",
     "iopub.status.busy": "2023-04-03T16:46:39.220194Z",
     "iopub.status.idle": "2023-04-03T16:46:39.225740Z",
     "shell.execute_reply": "2023-04-03T16:46:39.224687Z"
    },
    "papermill": {
     "duration": 0.030936,
     "end_time": "2023-04-03T16:46:39.228188",
     "exception": false,
     "start_time": "2023-04-03T16:46:39.197252",
     "status": "completed"
    },
    "tags": []
   },
   "outputs": [],
   "source": [
    "mode_imputer = SimpleImputer(strategy='most_frequent')"
   ]
  },
  {
   "cell_type": "markdown",
   "id": "3dcc5130",
   "metadata": {
    "papermill": {
     "duration": 0.021666,
     "end_time": "2023-04-03T16:46:39.271059",
     "exception": false,
     "start_time": "2023-04-03T16:46:39.249393",
     "status": "completed"
    },
    "tags": []
   },
   "source": [
    "Apply Mode immputation"
   ]
  },
  {
   "cell_type": "code",
   "execution_count": 16,
   "id": "f85358e6",
   "metadata": {
    "execution": {
     "iopub.execute_input": "2023-04-03T16:46:39.316130Z",
     "iopub.status.busy": "2023-04-03T16:46:39.315266Z",
     "iopub.status.idle": "2023-04-03T16:46:39.345486Z",
     "shell.execute_reply": "2023-04-03T16:46:39.344255Z"
    },
    "papermill": {
     "duration": 0.05634,
     "end_time": "2023-04-03T16:46:39.348559",
     "exception": false,
     "start_time": "2023-04-03T16:46:39.292219",
     "status": "completed"
    },
    "tags": []
   },
   "outputs": [],
   "source": [
    "train_df[cat_cols] = mode_imputer.fit_transform(train_df[cat_cols])\n",
    "test_df[cat_cols] = mode_imputer.transform(test_df[cat_cols])"
   ]
  },
  {
   "cell_type": "markdown",
   "id": "be788238",
   "metadata": {
    "papermill": {
     "duration": 0.020945,
     "end_time": "2023-04-03T16:46:39.390967",
     "exception": false,
     "start_time": "2023-04-03T16:46:39.370022",
     "status": "completed"
    },
    "tags": []
   },
   "source": [
    "encode categorical columns"
   ]
  },
  {
   "cell_type": "code",
   "execution_count": 17,
   "id": "63055664",
   "metadata": {
    "execution": {
     "iopub.execute_input": "2023-04-03T16:46:39.435920Z",
     "iopub.status.busy": "2023-04-03T16:46:39.435186Z",
     "iopub.status.idle": "2023-04-03T16:46:39.440361Z",
     "shell.execute_reply": "2023-04-03T16:46:39.439094Z"
    },
    "papermill": {
     "duration": 0.030687,
     "end_time": "2023-04-03T16:46:39.442892",
     "exception": false,
     "start_time": "2023-04-03T16:46:39.412205",
     "status": "completed"
    },
    "tags": []
   },
   "outputs": [],
   "source": [
    "cols_to_encode = cat_cols"
   ]
  },
  {
   "cell_type": "code",
   "execution_count": 18,
   "id": "dde66a88",
   "metadata": {
    "execution": {
     "iopub.execute_input": "2023-04-03T16:46:39.489317Z",
     "iopub.status.busy": "2023-04-03T16:46:39.488123Z",
     "iopub.status.idle": "2023-04-03T16:46:39.494343Z",
     "shell.execute_reply": "2023-04-03T16:46:39.492956Z"
    },
    "papermill": {
     "duration": 0.031927,
     "end_time": "2023-04-03T16:46:39.496878",
     "exception": false,
     "start_time": "2023-04-03T16:46:39.464951",
     "status": "completed"
    },
    "tags": []
   },
   "outputs": [],
   "source": [
    "encoder = OneHotEncoder(handle_unknown='ignore')"
   ]
  },
  {
   "cell_type": "code",
   "execution_count": 19,
   "id": "f05c79df",
   "metadata": {
    "execution": {
     "iopub.execute_input": "2023-04-03T16:46:39.542605Z",
     "iopub.status.busy": "2023-04-03T16:46:39.542066Z",
     "iopub.status.idle": "2023-04-03T16:46:39.597610Z",
     "shell.execute_reply": "2023-04-03T16:46:39.595983Z"
    },
    "papermill": {
     "duration": 0.082321,
     "end_time": "2023-04-03T16:46:39.601124",
     "exception": false,
     "start_time": "2023-04-03T16:46:39.518803",
     "status": "completed"
    },
    "tags": []
   },
   "outputs": [],
   "source": [
    "encoded_cols_train = encoder.fit_transform(train_df[cols_to_encode])\n",
    "encoded_cols_test = encoder.transform(test_df[cols_to_encode])"
   ]
  },
  {
   "cell_type": "markdown",
   "id": "fa983d67",
   "metadata": {
    "papermill": {
     "duration": 0.020924,
     "end_time": "2023-04-03T16:46:39.645120",
     "exception": false,
     "start_time": "2023-04-03T16:46:39.624196",
     "status": "completed"
    },
    "tags": []
   },
   "source": [
    "Create dataframe"
   ]
  },
  {
   "cell_type": "code",
   "execution_count": 20,
   "id": "428b45d1",
   "metadata": {
    "execution": {
     "iopub.execute_input": "2023-04-03T16:46:39.690270Z",
     "iopub.status.busy": "2023-04-03T16:46:39.689766Z",
     "iopub.status.idle": "2023-04-03T16:46:39.699304Z",
     "shell.execute_reply": "2023-04-03T16:46:39.698222Z"
    },
    "papermill": {
     "duration": 0.035657,
     "end_time": "2023-04-03T16:46:39.702273",
     "exception": false,
     "start_time": "2023-04-03T16:46:39.666616",
     "status": "completed"
    },
    "tags": []
   },
   "outputs": [],
   "source": [
    "encoded_cols_train_df = pd.DataFrame(encoded_cols_train.toarray(), columns=encoder.get_feature_names_out(cols_to_encode))\n",
    "encoded_cols_test_df = pd.DataFrame(encoded_cols_test.toarray(), columns=encoder.get_feature_names_out(cols_to_encode))"
   ]
  },
  {
   "cell_type": "code",
   "execution_count": 21,
   "id": "54c6cc21",
   "metadata": {
    "execution": {
     "iopub.execute_input": "2023-04-03T16:46:39.747808Z",
     "iopub.status.busy": "2023-04-03T16:46:39.746589Z",
     "iopub.status.idle": "2023-04-03T16:46:39.762577Z",
     "shell.execute_reply": "2023-04-03T16:46:39.761425Z"
    },
    "papermill": {
     "duration": 0.042033,
     "end_time": "2023-04-03T16:46:39.765684",
     "exception": false,
     "start_time": "2023-04-03T16:46:39.723651",
     "status": "completed"
    },
    "tags": []
   },
   "outputs": [],
   "source": [
    "train_df = pd.concat([train_df, encoded_cols_train_df], axis=1)\n",
    "test_df = pd.concat([test_df, encoded_cols_test_df], axis=1)"
   ]
  },
  {
   "cell_type": "markdown",
   "id": "9bd6390a",
   "metadata": {
    "papermill": {
     "duration": 0.021614,
     "end_time": "2023-04-03T16:46:39.808622",
     "exception": false,
     "start_time": "2023-04-03T16:46:39.787008",
     "status": "completed"
    },
    "tags": []
   },
   "source": [
    "Drop the original columns"
   ]
  },
  {
   "cell_type": "code",
   "execution_count": 22,
   "id": "6b93d13a",
   "metadata": {
    "execution": {
     "iopub.execute_input": "2023-04-03T16:46:39.853973Z",
     "iopub.status.busy": "2023-04-03T16:46:39.853266Z",
     "iopub.status.idle": "2023-04-03T16:46:39.872167Z",
     "shell.execute_reply": "2023-04-03T16:46:39.871084Z"
    },
    "papermill": {
     "duration": 0.045225,
     "end_time": "2023-04-03T16:46:39.875174",
     "exception": false,
     "start_time": "2023-04-03T16:46:39.829949",
     "status": "completed"
    },
    "tags": []
   },
   "outputs": [],
   "source": [
    "train_df.drop(cols_to_encode, axis=1, inplace=True)\n",
    "test_df.drop(cols_to_encode, axis=1, inplace=True)"
   ]
  },
  {
   "cell_type": "code",
   "execution_count": 23,
   "id": "0e23c037",
   "metadata": {
    "execution": {
     "iopub.execute_input": "2023-04-03T16:46:39.920807Z",
     "iopub.status.busy": "2023-04-03T16:46:39.920294Z",
     "iopub.status.idle": "2023-04-03T16:46:39.925825Z",
     "shell.execute_reply": "2023-04-03T16:46:39.924506Z"
    },
    "papermill": {
     "duration": 0.031954,
     "end_time": "2023-04-03T16:46:39.928722",
     "exception": false,
     "start_time": "2023-04-03T16:46:39.896768",
     "status": "completed"
    },
    "tags": []
   },
   "outputs": [],
   "source": [
    "columns_to_scale = numeric_cols"
   ]
  },
  {
   "cell_type": "markdown",
   "id": "49e7599d",
   "metadata": {
    "papermill": {
     "duration": 0.022627,
     "end_time": "2023-04-03T16:46:39.972785",
     "exception": false,
     "start_time": "2023-04-03T16:46:39.950158",
     "status": "completed"
    },
    "tags": []
   },
   "source": [
    "Standard Scaler"
   ]
  },
  {
   "cell_type": "code",
   "execution_count": 24,
   "id": "1510c531",
   "metadata": {
    "execution": {
     "iopub.execute_input": "2023-04-03T16:46:40.017221Z",
     "iopub.status.busy": "2023-04-03T16:46:40.016734Z",
     "iopub.status.idle": "2023-04-03T16:46:40.022295Z",
     "shell.execute_reply": "2023-04-03T16:46:40.020915Z"
    },
    "papermill": {
     "duration": 0.030905,
     "end_time": "2023-04-03T16:46:40.024927",
     "exception": false,
     "start_time": "2023-04-03T16:46:39.994022",
     "status": "completed"
    },
    "tags": []
   },
   "outputs": [],
   "source": [
    "scaler = PowerTransformer()"
   ]
  },
  {
   "cell_type": "code",
   "execution_count": 25,
   "id": "629f586a",
   "metadata": {
    "execution": {
     "iopub.execute_input": "2023-04-03T16:46:40.070037Z",
     "iopub.status.busy": "2023-04-03T16:46:40.069515Z",
     "iopub.status.idle": "2023-04-03T16:46:40.347326Z",
     "shell.execute_reply": "2023-04-03T16:46:40.345724Z"
    },
    "papermill": {
     "duration": 0.304682,
     "end_time": "2023-04-03T16:46:40.350935",
     "exception": false,
     "start_time": "2023-04-03T16:46:40.046253",
     "status": "completed"
    },
    "tags": []
   },
   "outputs": [],
   "source": [
    "train_df[columns_to_scale] = scaler.fit_transform(train_df[columns_to_scale])\n",
    "test_df[columns_to_scale] = scaler.transform(test_df[columns_to_scale])"
   ]
  },
  {
   "cell_type": "markdown",
   "id": "0b5b6ef6",
   "metadata": {
    "papermill": {
     "duration": 0.020931,
     "end_time": "2023-04-03T16:46:40.393313",
     "exception": false,
     "start_time": "2023-04-03T16:46:40.372382",
     "status": "completed"
    },
    "tags": []
   },
   "source": [
    "PCA"
   ]
  },
  {
   "cell_type": "code",
   "execution_count": 26,
   "id": "97761e38",
   "metadata": {
    "execution": {
     "iopub.execute_input": "2023-04-03T16:46:40.439114Z",
     "iopub.status.busy": "2023-04-03T16:46:40.438148Z",
     "iopub.status.idle": "2023-04-03T16:46:40.443932Z",
     "shell.execute_reply": "2023-04-03T16:46:40.442777Z"
    },
    "papermill": {
     "duration": 0.031072,
     "end_time": "2023-04-03T16:46:40.446310",
     "exception": false,
     "start_time": "2023-04-03T16:46:40.415238",
     "status": "completed"
    },
    "tags": []
   },
   "outputs": [],
   "source": [
    "from sklearn.decomposition import PCA"
   ]
  },
  {
   "cell_type": "code",
   "execution_count": 27,
   "id": "2ce3eb99",
   "metadata": {
    "execution": {
     "iopub.execute_input": "2023-04-03T16:46:40.492438Z",
     "iopub.status.busy": "2023-04-03T16:46:40.491925Z",
     "iopub.status.idle": "2023-04-03T16:46:40.497597Z",
     "shell.execute_reply": "2023-04-03T16:46:40.496276Z"
    },
    "papermill": {
     "duration": 0.032036,
     "end_time": "2023-04-03T16:46:40.499956",
     "exception": false,
     "start_time": "2023-04-03T16:46:40.467920",
     "status": "completed"
    },
    "tags": []
   },
   "outputs": [],
   "source": [
    "columns_to_pca = numeric_cols"
   ]
  },
  {
   "cell_type": "code",
   "execution_count": 28,
   "id": "1d6f7f99",
   "metadata": {
    "execution": {
     "iopub.execute_input": "2023-04-03T16:46:40.544347Z",
     "iopub.status.busy": "2023-04-03T16:46:40.543840Z",
     "iopub.status.idle": "2023-04-03T16:46:40.549676Z",
     "shell.execute_reply": "2023-04-03T16:46:40.548276Z"
    },
    "papermill": {
     "duration": 0.031024,
     "end_time": "2023-04-03T16:46:40.552098",
     "exception": false,
     "start_time": "2023-04-03T16:46:40.521074",
     "status": "completed"
    },
    "tags": []
   },
   "outputs": [],
   "source": [
    "pca = PCA()"
   ]
  },
  {
   "cell_type": "code",
   "execution_count": 29,
   "id": "40c5f2d2",
   "metadata": {
    "execution": {
     "iopub.execute_input": "2023-04-03T16:46:40.597277Z",
     "iopub.status.busy": "2023-04-03T16:46:40.596750Z",
     "iopub.status.idle": "2023-04-03T16:46:40.652365Z",
     "shell.execute_reply": "2023-04-03T16:46:40.650492Z"
    },
    "papermill": {
     "duration": 0.083839,
     "end_time": "2023-04-03T16:46:40.657178",
     "exception": false,
     "start_time": "2023-04-03T16:46:40.573339",
     "status": "completed"
    },
    "tags": []
   },
   "outputs": [
    {
     "data": {
      "text/plain": [
       "PCA()"
      ]
     },
     "execution_count": 29,
     "metadata": {},
     "output_type": "execute_result"
    }
   ],
   "source": [
    "pca.fit(train_df[columns_to_pca])"
   ]
  },
  {
   "cell_type": "markdown",
   "id": "b871b7ef",
   "metadata": {
    "papermill": {
     "duration": 0.047004,
     "end_time": "2023-04-03T16:46:40.760690",
     "exception": false,
     "start_time": "2023-04-03T16:46:40.713686",
     "status": "completed"
    },
    "tags": []
   },
   "source": [
    "Plot Histogram"
   ]
  },
  {
   "cell_type": "code",
   "execution_count": 30,
   "id": "24caed0d",
   "metadata": {
    "execution": {
     "iopub.execute_input": "2023-04-03T16:46:40.808938Z",
     "iopub.status.busy": "2023-04-03T16:46:40.808410Z",
     "iopub.status.idle": "2023-04-03T16:46:46.618450Z",
     "shell.execute_reply": "2023-04-03T16:46:46.617308Z"
    },
    "papermill": {
     "duration": 5.842066,
     "end_time": "2023-04-03T16:46:46.624259",
     "exception": false,
     "start_time": "2023-04-03T16:46:40.782193",
     "status": "completed"
    },
    "tags": []
   },
   "outputs": [
    {
     "data": {
      "text/plain": [
       "array([[<AxesSubplot:title={'center':'HomePage'}>,\n",
       "        <AxesSubplot:title={'center':'HomePage_Duration'}>,\n",
       "        <AxesSubplot:title={'center':'LandingPage'}>,\n",
       "        <AxesSubplot:title={'center':'LandingPage_Duration'}>,\n",
       "        <AxesSubplot:title={'center':'ProductDescriptionPage'}>,\n",
       "        <AxesSubplot:title={'center':'ProductDescriptionPage_Duration'}>],\n",
       "       [<AxesSubplot:title={'center':'GoogleMetric:Bounce Rates'}>,\n",
       "        <AxesSubplot:title={'center':'GoogleMetric:Exit Rates'}>,\n",
       "        <AxesSubplot:title={'center':'GoogleMetric:Page Values'}>,\n",
       "        <AxesSubplot:title={'center':'SeasonalPurchase'}>,\n",
       "        <AxesSubplot:title={'center':'OS'}>,\n",
       "        <AxesSubplot:title={'center':'SearchEngine'}>],\n",
       "       [<AxesSubplot:title={'center':'Zone'}>,\n",
       "        <AxesSubplot:title={'center':'Type of Traffic'}>,\n",
       "        <AxesSubplot:title={'center':'WeekendPurchase'}>,\n",
       "        <AxesSubplot:title={'center':'Month_SeasonalPurchase_Aug'}>,\n",
       "        <AxesSubplot:title={'center':'Month_SeasonalPurchase_Dec'}>,\n",
       "        <AxesSubplot:title={'center':'Month_SeasonalPurchase_Feb'}>],\n",
       "       [<AxesSubplot:title={'center':'Month_SeasonalPurchase_Jul'}>,\n",
       "        <AxesSubplot:title={'center':'Month_SeasonalPurchase_June'}>,\n",
       "        <AxesSubplot:title={'center':'Month_SeasonalPurchase_Mar'}>,\n",
       "        <AxesSubplot:title={'center':'Month_SeasonalPurchase_May'}>,\n",
       "        <AxesSubplot:title={'center':'Month_SeasonalPurchase_Nov'}>,\n",
       "        <AxesSubplot:title={'center':'Month_SeasonalPurchase_Oct'}>],\n",
       "       [<AxesSubplot:title={'center':'Month_SeasonalPurchase_Sep'}>,\n",
       "        <AxesSubplot:title={'center':'CustomerType_New_Visitor'}>,\n",
       "        <AxesSubplot:title={'center':'CustomerType_Other'}>,\n",
       "        <AxesSubplot:title={'center':'CustomerType_Returning_Visitor'}>,\n",
       "        <AxesSubplot:title={'center':'Gender_Female'}>,\n",
       "        <AxesSubplot:title={'center':'Gender_Male'}>],\n",
       "       [<AxesSubplot:title={'center':'Gender_Not Specified'}>,\n",
       "        <AxesSubplot:title={'center':'Cookies Setting_ALL'}>,\n",
       "        <AxesSubplot:title={'center':'Cookies Setting_Deny'}>,\n",
       "        <AxesSubplot:title={'center':'Cookies Setting_Required'}>,\n",
       "        <AxesSubplot:title={'center':'Education_Diploma'}>,\n",
       "        <AxesSubplot:title={'center':'Education_Graduate'}>],\n",
       "       [<AxesSubplot:title={'center':'Education_Not Specified'}>,\n",
       "        <AxesSubplot:title={'center':'Education_Others'}>,\n",
       "        <AxesSubplot:title={'center':'Marital Status_Married'}>,\n",
       "        <AxesSubplot:title={'center':'Marital Status_Other'}>,\n",
       "        <AxesSubplot:title={'center':'Marital Status_Single'}>,\n",
       "        <AxesSubplot:>]], dtype=object)"
      ]
     },
     "execution_count": 30,
     "metadata": {},
     "output_type": "execute_result"
    },
    {
     "data": {
      "image/png": "[encoded data removed]",
      "text/plain": [
       "<Figure size 2200x1500 with 42 Axes>"
      ]
     },
     "metadata": {},
     "output_type": "display_data"
    }
   ],
   "source": [
    "train_df.hist(train_df.columns, figsize=(22,15))"
   ]
  },
  {
   "cell_type": "code",
   "execution_count": 31,
   "id": "dc76501b",
   "metadata": {
    "execution": {
     "iopub.execute_input": "2023-04-03T16:46:46.678305Z",
     "iopub.status.busy": "2023-04-03T16:46:46.677175Z",
     "iopub.status.idle": "2023-04-03T16:46:46.683940Z",
     "shell.execute_reply": "2023-04-03T16:46:46.682620Z"
    },
    "papermill": {
     "duration": 0.037148,
     "end_time": "2023-04-03T16:46:46.687030",
     "exception": false,
     "start_time": "2023-04-03T16:46:46.649882",
     "status": "completed"
    },
    "tags": []
   },
   "outputs": [
    {
     "name": "stdout",
     "output_type": "stream",
     "text": [
      "(14731, 42)\n",
      "(6599, 41)\n"
     ]
    }
   ],
   "source": [
    "print(train_df.shape)\n",
    "print(test_df.shape)"
   ]
  },
  {
   "cell_type": "markdown",
   "id": "e364b0f7",
   "metadata": {
    "papermill": {
     "duration": 0.025178,
     "end_time": "2023-04-03T16:46:46.737802",
     "exception": false,
     "start_time": "2023-04-03T16:46:46.712624",
     "status": "completed"
    },
    "tags": []
   },
   "source": [
    "Plot the cumulative explained variance ratio"
   ]
  },
  {
   "cell_type": "code",
   "execution_count": 32,
   "id": "aa085a59",
   "metadata": {
    "execution": {
     "iopub.execute_input": "2023-04-03T16:46:46.791315Z",
     "iopub.status.busy": "2023-04-03T16:46:46.790831Z",
     "iopub.status.idle": "2023-04-03T16:46:47.213093Z",
     "shell.execute_reply": "2023-04-03T16:46:47.211619Z"
    },
    "papermill": {
     "duration": 0.452655,
     "end_time": "2023-04-03T16:46:47.216176",
     "exception": false,
     "start_time": "2023-04-03T16:46:46.763521",
     "status": "completed"
    },
    "tags": []
   },
   "outputs": [
    {
     "data": {
      "image/png": "[encoded data removed]",
      "text/plain": [
       "<Figure size 640x480 with 1 Axes>"
      ]
     },
     "metadata": {},
     "output_type": "display_data"
    }
   ],
   "source": [
    "import matplotlib.pyplot as plt\n",
    "plt.plot(np.cumsum(pca.explained_variance_ratio_))\n",
    "plt.xlabel('Number of Components')\n",
    "plt.ylabel('Cumulative Explained Variance Ratio')\n",
    "plt.show()"
   ]
  },
  {
   "cell_type": "markdown",
   "id": "099a75d8",
   "metadata": {
    "papermill": {
     "duration": 0.025193,
     "end_time": "2023-04-03T16:46:47.267835",
     "exception": false,
     "start_time": "2023-04-03T16:46:47.242642",
     "status": "completed"
    },
    "tags": []
   },
   "source": [
    "Determine 99% variance"
   ]
  },
  {
   "cell_type": "code",
   "execution_count": 33,
   "id": "d076a8bb",
   "metadata": {
    "execution": {
     "iopub.execute_input": "2023-04-03T16:46:47.324286Z",
     "iopub.status.busy": "2023-04-03T16:46:47.323764Z",
     "iopub.status.idle": "2023-04-03T16:46:47.330421Z",
     "shell.execute_reply": "2023-04-03T16:46:47.328984Z"
    },
    "papermill": {
     "duration": 0.03857,
     "end_time": "2023-04-03T16:46:47.333409",
     "exception": false,
     "start_time": "2023-04-03T16:46:47.294839",
     "status": "completed"
    },
    "tags": []
   },
   "outputs": [],
   "source": [
    "n_components = np.argmax(np.cumsum(pca.explained_variance_ratio_) >= 0.99) + 1"
   ]
  },
  {
   "cell_type": "code",
   "execution_count": 34,
   "id": "d600a6b3",
   "metadata": {
    "execution": {
     "iopub.execute_input": "2023-04-03T16:46:47.387812Z",
     "iopub.status.busy": "2023-04-03T16:46:47.386481Z",
     "iopub.status.idle": "2023-04-03T16:46:47.393645Z",
     "shell.execute_reply": "2023-04-03T16:46:47.392043Z"
    },
    "papermill": {
     "duration": 0.03795,
     "end_time": "2023-04-03T16:46:47.396780",
     "exception": false,
     "start_time": "2023-04-03T16:46:47.358830",
     "status": "completed"
    },
    "tags": []
   },
   "outputs": [],
   "source": [
    "pca = PCA(n_components=n_components)"
   ]
  },
  {
   "cell_type": "code",
   "execution_count": 35,
   "id": "be792697",
   "metadata": {
    "execution": {
     "iopub.execute_input": "2023-04-03T16:46:47.451546Z",
     "iopub.status.busy": "2023-04-03T16:46:47.450445Z",
     "iopub.status.idle": "2023-04-03T16:46:47.485156Z",
     "shell.execute_reply": "2023-04-03T16:46:47.482503Z"
    },
    "papermill": {
     "duration": 0.068579,
     "end_time": "2023-04-03T16:46:47.491144",
     "exception": false,
     "start_time": "2023-04-03T16:46:47.422565",
     "status": "completed"
    },
    "tags": []
   },
   "outputs": [],
   "source": [
    "train_df_pca = pd.DataFrame(pca.fit_transform(train_df[columns_to_pca]), columns=['PCA_' + str(i) for i in range(1, n_components+1)])\n",
    "test_df_pca = pd.DataFrame(pca.transform(test_df[columns_to_pca]), columns=['PCA_' + str(i) for i in range(1, n_components+1)])"
   ]
  },
  {
   "cell_type": "markdown",
   "id": "27710f7e",
   "metadata": {
    "papermill": {
     "duration": 0.052006,
     "end_time": "2023-04-03T16:46:47.610103",
     "exception": false,
     "start_time": "2023-04-03T16:46:47.558097",
     "status": "completed"
    },
    "tags": []
   },
   "source": [
    "Add PCA column"
   ]
  },
  {
   "cell_type": "code",
   "execution_count": 36,
   "id": "0931a8e1",
   "metadata": {
    "execution": {
     "iopub.execute_input": "2023-04-03T16:46:47.663632Z",
     "iopub.status.busy": "2023-04-03T16:46:47.663113Z",
     "iopub.status.idle": "2023-04-03T16:46:47.674890Z",
     "shell.execute_reply": "2023-04-03T16:46:47.673247Z"
    },
    "papermill": {
     "duration": 0.042478,
     "end_time": "2023-04-03T16:46:47.678196",
     "exception": false,
     "start_time": "2023-04-03T16:46:47.635718",
     "status": "completed"
    },
    "tags": []
   },
   "outputs": [],
   "source": [
    "train_df = pd.concat([train_df, train_df_pca], axis=1)\n",
    "test_df = pd.concat([test_df, test_df_pca], axis=1)"
   ]
  },
  {
   "cell_type": "code",
   "execution_count": 37,
   "id": "a1a55c21",
   "metadata": {
    "execution": {
     "iopub.execute_input": "2023-04-03T16:46:47.732169Z",
     "iopub.status.busy": "2023-04-03T16:46:47.731680Z",
     "iopub.status.idle": "2023-04-03T16:46:47.749207Z",
     "shell.execute_reply": "2023-04-03T16:46:47.748055Z"
    },
    "papermill": {
     "duration": 0.048323,
     "end_time": "2023-04-03T16:46:47.752385",
     "exception": false,
     "start_time": "2023-04-03T16:46:47.704062",
     "status": "completed"
    },
    "tags": []
   },
   "outputs": [],
   "source": [
    "train_df.drop(columns_to_pca, axis=1, inplace=True)\n",
    "test_df.drop(columns_to_pca, axis=1, inplace=True)"
   ]
  },
  {
   "cell_type": "code",
   "execution_count": 38,
   "id": "e7729f8b",
   "metadata": {
    "execution": {
     "iopub.execute_input": "2023-04-03T16:46:47.807161Z",
     "iopub.status.busy": "2023-04-03T16:46:47.806372Z",
     "iopub.status.idle": "2023-04-03T16:46:47.815035Z",
     "shell.execute_reply": "2023-04-03T16:46:47.813737Z"
    },
    "papermill": {
     "duration": 0.040019,
     "end_time": "2023-04-03T16:46:47.818318",
     "exception": false,
     "start_time": "2023-04-03T16:46:47.778299",
     "status": "completed"
    },
    "tags": []
   },
   "outputs": [],
   "source": [
    "xtrain = train_df.drop('Made_Purchase', axis='columns')\n",
    "ytrain = train_df['Made_Purchase']"
   ]
  },
  {
   "cell_type": "code",
   "execution_count": 39,
   "id": "1f7d0661",
   "metadata": {
    "execution": {
     "iopub.execute_input": "2023-04-03T16:46:47.872160Z",
     "iopub.status.busy": "2023-04-03T16:46:47.871591Z",
     "iopub.status.idle": "2023-04-03T16:46:47.879276Z",
     "shell.execute_reply": "2023-04-03T16:46:47.877991Z"
    },
    "papermill": {
     "duration": 0.037888,
     "end_time": "2023-04-03T16:46:47.881759",
     "exception": false,
     "start_time": "2023-04-03T16:46:47.843871",
     "status": "completed"
    },
    "tags": []
   },
   "outputs": [
    {
     "data": {
      "text/plain": [
       "pandas.core.frame.DataFrame"
      ]
     },
     "execution_count": 39,
     "metadata": {},
     "output_type": "execute_result"
    }
   ],
   "source": [
    "type(train_df)"
   ]
  },
  {
   "cell_type": "code",
   "execution_count": 40,
   "id": "8a38f7d0",
   "metadata": {
    "execution": {
     "iopub.execute_input": "2023-04-03T16:46:47.936554Z",
     "iopub.status.busy": "2023-04-03T16:46:47.935625Z",
     "iopub.status.idle": "2023-04-03T16:46:48.539058Z",
     "shell.execute_reply": "2023-04-03T16:46:48.537391Z"
    },
    "papermill": {
     "duration": 0.634346,
     "end_time": "2023-04-03T16:46:48.542218",
     "exception": false,
     "start_time": "2023-04-03T16:46:47.907872",
     "status": "completed"
    },
    "tags": []
   },
   "outputs": [
    {
     "data": {
      "text/plain": [
       "DecisionTreeClassifier()"
      ]
     },
     "execution_count": 40,
     "metadata": {},
     "output_type": "execute_result"
    }
   ],
   "source": [
    "from sklearn.tree import DecisionTreeClassifier\n",
    "\n",
    "clf = DecisionTreeClassifier()\n",
    "clf.fit(xtrain, ytrain)"
   ]
  },
  {
   "cell_type": "markdown",
   "id": "471e699c",
   "metadata": {
    "papermill": {
     "duration": 0.025785,
     "end_time": "2023-04-03T16:46:48.593875",
     "exception": false,
     "start_time": "2023-04-03T16:46:48.568090",
     "status": "completed"
    },
    "tags": []
   },
   "source": [
    "Bagging Classifier"
   ]
  },
  {
   "cell_type": "code",
   "execution_count": 41,
   "id": "d4373157",
   "metadata": {
    "execution": {
     "iopub.execute_input": "2023-04-03T16:46:48.649334Z",
     "iopub.status.busy": "2023-04-03T16:46:48.648854Z",
     "iopub.status.idle": "2023-04-03T16:46:52.248898Z",
     "shell.execute_reply": "2023-04-03T16:46:52.247490Z"
    },
    "papermill": {
     "duration": 3.632049,
     "end_time": "2023-04-03T16:46:52.252486",
     "exception": false,
     "start_time": "2023-04-03T16:46:48.620437",
     "status": "completed"
    },
    "tags": []
   },
   "outputs": [],
   "source": [
    "from sklearn.ensemble import BaggingClassifier\n",
    "from sklearn.tree import DecisionTreeClassifier\n",
    "\n",
    "base_clf = DecisionTreeClassifier()\n",
    "clf = BaggingClassifier(base_estimator=base_clf, n_estimators=10)\n",
    "clf.fit(xtrain, ytrain)\n",
    "ypred = clf.predict(test_df)"
   ]
  },
  {
   "cell_type": "markdown",
   "id": "67e538e8",
   "metadata": {
    "papermill": {
     "duration": 0.026087,
     "end_time": "2023-04-03T16:46:52.305785",
     "exception": false,
     "start_time": "2023-04-03T16:46:52.279698",
     "status": "completed"
    },
    "tags": []
   },
   "source": [
    "Boost Classifier"
   ]
  },
  {
   "cell_type": "code",
   "execution_count": 42,
   "id": "e04ebdcb",
   "metadata": {
    "execution": {
     "iopub.execute_input": "2023-04-03T16:46:52.359964Z",
     "iopub.status.busy": "2023-04-03T16:46:52.358967Z",
     "iopub.status.idle": "2023-04-03T16:46:59.199268Z",
     "shell.execute_reply": "2023-04-03T16:46:59.197715Z"
    },
    "papermill": {
     "duration": 6.871338,
     "end_time": "2023-04-03T16:46:59.202714",
     "exception": false,
     "start_time": "2023-04-03T16:46:52.331376",
     "status": "completed"
    },
    "tags": []
   },
   "outputs": [],
   "source": [
    "from sklearn.ensemble import AdaBoostClassifier\n",
    "from sklearn.tree import DecisionTreeClassifier\n",
    "\n",
    "base_clf = DecisionTreeClassifier()\n",
    "clf = AdaBoostClassifier(base_estimator=base_clf, n_estimators=10)\n",
    "clf.fit(xtrain, ytrain)\n",
    "ypred = clf.predict(test_df)"
   ]
  },
  {
   "cell_type": "markdown",
   "id": "96121728",
   "metadata": {
    "papermill": {
     "duration": 0.025636,
     "end_time": "2023-04-03T16:46:59.254315",
     "exception": false,
     "start_time": "2023-04-03T16:46:59.228679",
     "status": "completed"
    },
    "tags": []
   },
   "source": [
    "MLP classifier"
   ]
  },
  {
   "cell_type": "code",
   "execution_count": 43,
   "id": "61991c18",
   "metadata": {
    "execution": {
     "iopub.execute_input": "2023-04-03T16:46:59.308461Z",
     "iopub.status.busy": "2023-04-03T16:46:59.307968Z",
     "iopub.status.idle": "2023-04-03T16:48:24.382773Z",
     "shell.execute_reply": "2023-04-03T16:48:24.380566Z"
    },
    "papermill": {
     "duration": 85.10995,
     "end_time": "2023-04-03T16:48:24.390404",
     "exception": false,
     "start_time": "2023-04-03T16:46:59.280454",
     "status": "completed"
    },
    "tags": []
   },
   "outputs": [],
   "source": [
    "from sklearn.neural_network import MLPClassifier\n",
    "clf = MLPClassifier(hidden_layer_sizes=(100, 50), max_iter=1000)\n",
    "clf.fit(xtrain, ytrain)\n",
    "ypred = clf.predict(test_df)"
   ]
  },
  {
   "cell_type": "code",
   "execution_count": 44,
   "id": "f344d24b",
   "metadata": {
    "execution": {
     "iopub.execute_input": "2023-04-03T16:48:24.514765Z",
     "iopub.status.busy": "2023-04-03T16:48:24.514274Z",
     "iopub.status.idle": "2023-04-03T16:48:24.524082Z",
     "shell.execute_reply": "2023-04-03T16:48:24.522790Z"
    },
    "papermill": {
     "duration": 0.06507,
     "end_time": "2023-04-03T16:48:24.527187",
     "exception": false,
     "start_time": "2023-04-03T16:48:24.462117",
     "status": "completed"
    },
    "tags": []
   },
   "outputs": [],
   "source": [
    "x=train_df.drop(\"Made_Purchase\",axis=1)\n",
    "y=train_df['Made_Purchase'].copy()"
   ]
  },
  {
   "cell_type": "code",
   "execution_count": 45,
   "id": "1670263d",
   "metadata": {
    "execution": {
     "iopub.execute_input": "2023-04-03T16:48:24.582720Z",
     "iopub.status.busy": "2023-04-03T16:48:24.581682Z",
     "iopub.status.idle": "2023-04-03T16:48:24.594537Z",
     "shell.execute_reply": "2023-04-03T16:48:24.593285Z"
    },
    "papermill": {
     "duration": 0.044605,
     "end_time": "2023-04-03T16:48:24.597794",
     "exception": false,
     "start_time": "2023-04-03T16:48:24.553189",
     "status": "completed"
    },
    "tags": []
   },
   "outputs": [],
   "source": [
    "from sklearn.model_selection import train_test_split\n",
    "xtrain, xtest, ytrain, ytest = train_test_split(x, y, test_size=0.25, random_state=42)"
   ]
  },
  {
   "cell_type": "code",
   "execution_count": 46,
   "id": "144d577a",
   "metadata": {
    "execution": {
     "iopub.execute_input": "2023-04-03T16:48:24.654387Z",
     "iopub.status.busy": "2023-04-03T16:48:24.653280Z",
     "iopub.status.idle": "2023-04-03T16:48:24.792313Z",
     "shell.execute_reply": "2023-04-03T16:48:24.790300Z"
    },
    "papermill": {
     "duration": 0.171112,
     "end_time": "2023-04-03T16:48:24.795769",
     "exception": false,
     "start_time": "2023-04-03T16:48:24.624657",
     "status": "completed"
    },
    "tags": []
   },
   "outputs": [
    {
     "data": {
      "text/html": [
       "<div>\n",
       "<style scoped>\n",
       "    .dataframe tbody tr th:only-of-type {\n",
       "        vertical-align: middle;\n",
       "    }\n",
       "\n",
       "    .dataframe tbody tr th {\n",
       "        vertical-align: top;\n",
       "    }\n",
       "\n",
       "    .dataframe thead th {\n",
       "        text-align: right;\n",
       "    }\n",
       "</style>\n",
       "<table border=\"1\" class=\"dataframe\">\n",
       "  <thead>\n",
       "    <tr style=\"text-align: right;\">\n",
       "      <th></th>\n",
       "      <th>Month_SeasonalPurchase_Aug</th>\n",
       "      <th>Month_SeasonalPurchase_Dec</th>\n",
       "      <th>Month_SeasonalPurchase_Feb</th>\n",
       "      <th>Month_SeasonalPurchase_Jul</th>\n",
       "      <th>Month_SeasonalPurchase_June</th>\n",
       "      <th>Month_SeasonalPurchase_Mar</th>\n",
       "      <th>Month_SeasonalPurchase_May</th>\n",
       "      <th>Month_SeasonalPurchase_Nov</th>\n",
       "      <th>Month_SeasonalPurchase_Oct</th>\n",
       "      <th>Month_SeasonalPurchase_Sep</th>\n",
       "      <th>...</th>\n",
       "      <th>PCA_4</th>\n",
       "      <th>PCA_5</th>\n",
       "      <th>PCA_6</th>\n",
       "      <th>PCA_7</th>\n",
       "      <th>PCA_8</th>\n",
       "      <th>PCA_9</th>\n",
       "      <th>PCA_10</th>\n",
       "      <th>PCA_11</th>\n",
       "      <th>PCA_12</th>\n",
       "      <th>PCA_13</th>\n",
       "    </tr>\n",
       "  </thead>\n",
       "  <tbody>\n",
       "    <tr>\n",
       "      <th>count</th>\n",
       "      <td>11048.000000</td>\n",
       "      <td>11048.000000</td>\n",
       "      <td>11048.000000</td>\n",
       "      <td>11048.000000</td>\n",
       "      <td>11048.000000</td>\n",
       "      <td>11048.000000</td>\n",
       "      <td>11048.000000</td>\n",
       "      <td>11048.000000</td>\n",
       "      <td>11048.000000</td>\n",
       "      <td>11048.000000</td>\n",
       "      <td>...</td>\n",
       "      <td>11048.000000</td>\n",
       "      <td>11048.000000</td>\n",
       "      <td>11048.000000</td>\n",
       "      <td>11048.000000</td>\n",
       "      <td>11048.000000</td>\n",
       "      <td>11048.000000</td>\n",
       "      <td>11048.000000</td>\n",
       "      <td>11048.000000</td>\n",
       "      <td>11048.000000</td>\n",
       "      <td>11048.000000</td>\n",
       "    </tr>\n",
       "    <tr>\n",
       "      <th>mean</th>\n",
       "      <td>0.034848</td>\n",
       "      <td>0.136043</td>\n",
       "      <td>0.014120</td>\n",
       "      <td>0.033671</td>\n",
       "      <td>0.023624</td>\n",
       "      <td>0.156680</td>\n",
       "      <td>0.288740</td>\n",
       "      <td>0.235880</td>\n",
       "      <td>0.040641</td>\n",
       "      <td>0.035753</td>\n",
       "      <td>...</td>\n",
       "      <td>0.002289</td>\n",
       "      <td>-0.002589</td>\n",
       "      <td>-0.002429</td>\n",
       "      <td>-0.005152</td>\n",
       "      <td>0.003393</td>\n",
       "      <td>-0.001293</td>\n",
       "      <td>0.002935</td>\n",
       "      <td>-0.004758</td>\n",
       "      <td>-0.000742</td>\n",
       "      <td>0.001439</td>\n",
       "    </tr>\n",
       "    <tr>\n",
       "      <th>std</th>\n",
       "      <td>0.183403</td>\n",
       "      <td>0.342849</td>\n",
       "      <td>0.117992</td>\n",
       "      <td>0.180390</td>\n",
       "      <td>0.151882</td>\n",
       "      <td>0.363515</td>\n",
       "      <td>0.453197</td>\n",
       "      <td>0.424567</td>\n",
       "      <td>0.197466</td>\n",
       "      <td>0.185682</td>\n",
       "      <td>...</td>\n",
       "      <td>1.064952</td>\n",
       "      <td>1.040826</td>\n",
       "      <td>1.007478</td>\n",
       "      <td>0.983102</td>\n",
       "      <td>0.960141</td>\n",
       "      <td>0.900916</td>\n",
       "      <td>0.847811</td>\n",
       "      <td>0.745900</td>\n",
       "      <td>0.459586</td>\n",
       "      <td>0.299319</td>\n",
       "    </tr>\n",
       "    <tr>\n",
       "      <th>min</th>\n",
       "      <td>0.000000</td>\n",
       "      <td>0.000000</td>\n",
       "      <td>0.000000</td>\n",
       "      <td>0.000000</td>\n",
       "      <td>0.000000</td>\n",
       "      <td>0.000000</td>\n",
       "      <td>0.000000</td>\n",
       "      <td>0.000000</td>\n",
       "      <td>0.000000</td>\n",
       "      <td>0.000000</td>\n",
       "      <td>...</td>\n",
       "      <td>-3.410530</td>\n",
       "      <td>-3.363893</td>\n",
       "      <td>-2.346400</td>\n",
       "      <td>-2.241496</td>\n",
       "      <td>-3.003931</td>\n",
       "      <td>-3.012685</td>\n",
       "      <td>-2.924000</td>\n",
       "      <td>-3.123175</td>\n",
       "      <td>-1.814343</td>\n",
       "      <td>-1.149611</td>\n",
       "    </tr>\n",
       "    <tr>\n",
       "      <th>25%</th>\n",
       "      <td>0.000000</td>\n",
       "      <td>0.000000</td>\n",
       "      <td>0.000000</td>\n",
       "      <td>0.000000</td>\n",
       "      <td>0.000000</td>\n",
       "      <td>0.000000</td>\n",
       "      <td>0.000000</td>\n",
       "      <td>0.000000</td>\n",
       "      <td>0.000000</td>\n",
       "      <td>0.000000</td>\n",
       "      <td>...</td>\n",
       "      <td>-0.722531</td>\n",
       "      <td>-0.700503</td>\n",
       "      <td>-0.688693</td>\n",
       "      <td>-0.856786</td>\n",
       "      <td>-0.698401</td>\n",
       "      <td>-0.632751</td>\n",
       "      <td>-0.583774</td>\n",
       "      <td>-0.250623</td>\n",
       "      <td>-0.273166</td>\n",
       "      <td>-0.197093</td>\n",
       "    </tr>\n",
       "    <tr>\n",
       "      <th>50%</th>\n",
       "      <td>0.000000</td>\n",
       "      <td>0.000000</td>\n",
       "      <td>0.000000</td>\n",
       "      <td>0.000000</td>\n",
       "      <td>0.000000</td>\n",
       "      <td>0.000000</td>\n",
       "      <td>0.000000</td>\n",
       "      <td>0.000000</td>\n",
       "      <td>0.000000</td>\n",
       "      <td>0.000000</td>\n",
       "      <td>...</td>\n",
       "      <td>0.043002</td>\n",
       "      <td>-0.081178</td>\n",
       "      <td>-0.071150</td>\n",
       "      <td>0.010051</td>\n",
       "      <td>-0.052318</td>\n",
       "      <td>-0.009129</td>\n",
       "      <td>-0.028942</td>\n",
       "      <td>0.024287</td>\n",
       "      <td>0.042408</td>\n",
       "      <td>-0.024269</td>\n",
       "    </tr>\n",
       "    <tr>\n",
       "      <th>75%</th>\n",
       "      <td>0.000000</td>\n",
       "      <td>0.000000</td>\n",
       "      <td>0.000000</td>\n",
       "      <td>0.000000</td>\n",
       "      <td>0.000000</td>\n",
       "      <td>0.000000</td>\n",
       "      <td>1.000000</td>\n",
       "      <td>0.000000</td>\n",
       "      <td>0.000000</td>\n",
       "      <td>0.000000</td>\n",
       "      <td>...</td>\n",
       "      <td>0.754640</td>\n",
       "      <td>0.616354</td>\n",
       "      <td>0.704685</td>\n",
       "      <td>0.760238</td>\n",
       "      <td>0.632042</td>\n",
       "      <td>0.621112</td>\n",
       "      <td>0.575175</td>\n",
       "      <td>0.321034</td>\n",
       "      <td>0.326090</td>\n",
       "      <td>0.170576</td>\n",
       "    </tr>\n",
       "    <tr>\n",
       "      <th>max</th>\n",
       "      <td>1.000000</td>\n",
       "      <td>1.000000</td>\n",
       "      <td>1.000000</td>\n",
       "      <td>1.000000</td>\n",
       "      <td>1.000000</td>\n",
       "      <td>1.000000</td>\n",
       "      <td>1.000000</td>\n",
       "      <td>1.000000</td>\n",
       "      <td>1.000000</td>\n",
       "      <td>1.000000</td>\n",
       "      <td>...</td>\n",
       "      <td>3.399824</td>\n",
       "      <td>4.049896</td>\n",
       "      <td>3.272648</td>\n",
       "      <td>2.960404</td>\n",
       "      <td>4.070948</td>\n",
       "      <td>3.084625</td>\n",
       "      <td>3.280749</td>\n",
       "      <td>3.764948</td>\n",
       "      <td>2.037434</td>\n",
       "      <td>1.806501</td>\n",
       "    </tr>\n",
       "  </tbody>\n",
       "</table>\n",
       "<p>8 rows × 39 columns</p>\n",
       "</div>"
      ],
      "text/plain": [
       "       Month_SeasonalPurchase_Aug  Month_SeasonalPurchase_Dec  \\\n",
       "count                11048.000000                11048.000000   \n",
       "mean                     0.034848                    0.136043   \n",
       "std                      0.183403                    0.342849   \n",
       "min                      0.000000                    0.000000   \n",
       "25%                      0.000000                    0.000000   \n",
       "50%                      0.000000                    0.000000   \n",
       "75%                      0.000000                    0.000000   \n",
       "max                      1.000000                    1.000000   \n",
       "\n",
       "       Month_SeasonalPurchase_Feb  Month_SeasonalPurchase_Jul  \\\n",
       "count                11048.000000                11048.000000   \n",
       "mean                     0.014120                    0.033671   \n",
       "std                      0.117992                    0.180390   \n",
       "min                      0.000000                    0.000000   \n",
       "25%                      0.000000                    0.000000   \n",
       "50%                      0.000000                    0.000000   \n",
       "75%                      0.000000                    0.000000   \n",
       "max                      1.000000                    1.000000   \n",
       "\n",
       "       Month_SeasonalPurchase_June  Month_SeasonalPurchase_Mar  \\\n",
       "count                 11048.000000                11048.000000   \n",
       "mean                      0.023624                    0.156680   \n",
       "std                       0.151882                    0.363515   \n",
       "min                       0.000000                    0.000000   \n",
       "25%                       0.000000                    0.000000   \n",
       "50%                       0.000000                    0.000000   \n",
       "75%                       0.000000                    0.000000   \n",
       "max                       1.000000                    1.000000   \n",
       "\n",
       "       Month_SeasonalPurchase_May  Month_SeasonalPurchase_Nov  \\\n",
       "count                11048.000000                11048.000000   \n",
       "mean                     0.288740                    0.235880   \n",
       "std                      0.453197                    0.424567   \n",
       "min                      0.000000                    0.000000   \n",
       "25%                      0.000000                    0.000000   \n",
       "50%                      0.000000                    0.000000   \n",
       "75%                      1.000000                    0.000000   \n",
       "max                      1.000000                    1.000000   \n",
       "\n",
       "       Month_SeasonalPurchase_Oct  Month_SeasonalPurchase_Sep  ...  \\\n",
       "count                11048.000000                11048.000000  ...   \n",
       "mean                     0.040641                    0.035753  ...   \n",
       "std                      0.197466                    0.185682  ...   \n",
       "min                      0.000000                    0.000000  ...   \n",
       "25%                      0.000000                    0.000000  ...   \n",
       "50%                      0.000000                    0.000000  ...   \n",
       "75%                      0.000000                    0.000000  ...   \n",
       "max                      1.000000                    1.000000  ...   \n",
       "\n",
       "              PCA_4         PCA_5         PCA_6         PCA_7         PCA_8  \\\n",
       "count  11048.000000  11048.000000  11048.000000  11048.000000  11048.000000   \n",
       "mean       0.002289     -0.002589     -0.002429     -0.005152      0.003393   \n",
       "std        1.064952      1.040826      1.007478      0.983102      0.960141   \n",
       "min       -3.410530     -3.363893     -2.346400     -2.241496     -3.003931   \n",
       "25%       -0.722531     -0.700503     -0.688693     -0.856786     -0.698401   \n",
       "50%        0.043002     -0.081178     -0.071150      0.010051     -0.052318   \n",
       "75%        0.754640      0.616354      0.704685      0.760238      0.632042   \n",
       "max        3.399824      4.049896      3.272648      2.960404      4.070948   \n",
       "\n",
       "              PCA_9        PCA_10        PCA_11        PCA_12        PCA_13  \n",
       "count  11048.000000  11048.000000  11048.000000  11048.000000  11048.000000  \n",
       "mean      -0.001293      0.002935     -0.004758     -0.000742      0.001439  \n",
       "std        0.900916      0.847811      0.745900      0.459586      0.299319  \n",
       "min       -3.012685     -2.924000     -3.123175     -1.814343     -1.149611  \n",
       "25%       -0.632751     -0.583774     -0.250623     -0.273166     -0.197093  \n",
       "50%       -0.009129     -0.028942      0.024287      0.042408     -0.024269  \n",
       "75%        0.621112      0.575175      0.321034      0.326090      0.170576  \n",
       "max        3.084625      3.280749      3.764948      2.037434      1.806501  \n",
       "\n",
       "[8 rows x 39 columns]"
      ]
     },
     "execution_count": 46,
     "metadata": {},
     "output_type": "execute_result"
    }
   ],
   "source": [
    "xtrain.describe()"
   ]
  },
  {
   "cell_type": "markdown",
   "id": "d358671e",
   "metadata": {
    "papermill": {
     "duration": 0.026025,
     "end_time": "2023-04-03T16:48:24.849444",
     "exception": false,
     "start_time": "2023-04-03T16:48:24.823419",
     "status": "completed"
    },
    "tags": []
   },
   "source": [
    "Dummy classifier"
   ]
  },
  {
   "cell_type": "code",
   "execution_count": 47,
   "id": "f389a455",
   "metadata": {
    "execution": {
     "iopub.execute_input": "2023-04-03T16:48:24.905967Z",
     "iopub.status.busy": "2023-04-03T16:48:24.905392Z",
     "iopub.status.idle": "2023-04-03T16:48:24.920425Z",
     "shell.execute_reply": "2023-04-03T16:48:24.918963Z"
    },
    "papermill": {
     "duration": 0.047276,
     "end_time": "2023-04-03T16:48:24.924147",
     "exception": false,
     "start_time": "2023-04-03T16:48:24.876871",
     "status": "completed"
    },
    "tags": []
   },
   "outputs": [
    {
     "data": {
      "text/plain": [
       "0.4990948587979725"
      ]
     },
     "execution_count": 47,
     "metadata": {},
     "output_type": "execute_result"
    }
   ],
   "source": [
    "from sklearn.dummy import DummyClassifier\n",
    "dummyC = DummyClassifier(strategy=\"uniform\")\n",
    "dummyC.fit(xtrain,ytrain)\n",
    "dummyC.score(xtrain,ytrain)"
   ]
  },
  {
   "cell_type": "markdown",
   "id": "aa27e619",
   "metadata": {
    "papermill": {
     "duration": 0.026051,
     "end_time": "2023-04-03T16:48:24.976832",
     "exception": false,
     "start_time": "2023-04-03T16:48:24.950781",
     "status": "completed"
    },
    "tags": []
   },
   "source": [
    "Confusion Matrix"
   ]
  },
  {
   "cell_type": "code",
   "execution_count": 48,
   "id": "b9392f48",
   "metadata": {
    "execution": {
     "iopub.execute_input": "2023-04-03T16:48:25.035442Z",
     "iopub.status.busy": "2023-04-03T16:48:25.034920Z",
     "iopub.status.idle": "2023-04-03T16:48:25.308456Z",
     "shell.execute_reply": "2023-04-03T16:48:25.306641Z"
    },
    "papermill": {
     "duration": 0.308434,
     "end_time": "2023-04-03T16:48:25.312036",
     "exception": false,
     "start_time": "2023-04-03T16:48:25.003602",
     "status": "completed"
    },
    "tags": []
   },
   "outputs": [
    {
     "data": {
      "text/plain": [
       "<sklearn.metrics._plot.confusion_matrix.ConfusionMatrixDisplay at 0x7f70e6c6ae10>"
      ]
     },
     "execution_count": 48,
     "metadata": {},
     "output_type": "execute_result"
    },
    {
     "data": {
      "image/png": "[encoded data removed]",
      "text/plain": [
       "<Figure size 640x480 with 2 Axes>"
      ]
     },
     "metadata": {},
     "output_type": "display_data"
    }
   ],
   "source": [
    "dummyC.score(xtest,ytest)\n",
    "ypred = dummyC.predict(xtrain)\n",
    "from sklearn.metrics import ConfusionMatrixDisplay\n",
    "\n",
    "ConfusionMatrixDisplay.from_predictions(ytrain, ypred)"
   ]
  },
  {
   "cell_type": "code",
   "execution_count": 49,
   "id": "952cbb9c",
   "metadata": {
    "execution": {
     "iopub.execute_input": "2023-04-03T16:48:25.370731Z",
     "iopub.status.busy": "2023-04-03T16:48:25.370175Z",
     "iopub.status.idle": "2023-04-03T16:48:25.407522Z",
     "shell.execute_reply": "2023-04-03T16:48:25.405860Z"
    },
    "papermill": {
     "duration": 0.070316,
     "end_time": "2023-04-03T16:48:25.411097",
     "exception": false,
     "start_time": "2023-04-03T16:48:25.340781",
     "status": "completed"
    },
    "tags": []
   },
   "outputs": [],
   "source": [
    "from sklearn.discriminant_analysis import LinearDiscriminantAnalysis as LDA\n",
    "from sklearn.model_selection import cross_val_score\n",
    "from sklearn.utils import shuffle"
   ]
  },
  {
   "cell_type": "code",
   "execution_count": 50,
   "id": "94cc393b",
   "metadata": {
    "execution": {
     "iopub.execute_input": "2023-04-03T16:48:25.475018Z",
     "iopub.status.busy": "2023-04-03T16:48:25.473502Z",
     "iopub.status.idle": "2023-04-03T16:48:25.484032Z",
     "shell.execute_reply": "2023-04-03T16:48:25.482347Z"
    },
    "papermill": {
     "duration": 0.046168,
     "end_time": "2023-04-03T16:48:25.487608",
     "exception": false,
     "start_time": "2023-04-03T16:48:25.441440",
     "status": "completed"
    },
    "tags": []
   },
   "outputs": [],
   "source": [
    "xtrain, ytrain = shuffle(xtrain, ytrain, random_state=0)"
   ]
  },
  {
   "cell_type": "markdown",
   "id": "3e5dea48",
   "metadata": {
    "papermill": {
     "duration": 0.028095,
     "end_time": "2023-04-03T16:48:25.545052",
     "exception": false,
     "start_time": "2023-04-03T16:48:25.516957",
     "status": "completed"
    },
    "tags": []
   },
   "source": [
    "LDA model"
   ]
  },
  {
   "cell_type": "code",
   "execution_count": 51,
   "id": "105dc539",
   "metadata": {
    "execution": {
     "iopub.execute_input": "2023-04-03T16:48:25.604325Z",
     "iopub.status.busy": "2023-04-03T16:48:25.603789Z",
     "iopub.status.idle": "2023-04-03T16:48:25.698431Z",
     "shell.execute_reply": "2023-04-03T16:48:25.696931Z"
    },
    "papermill": {
     "duration": 0.131225,
     "end_time": "2023-04-03T16:48:25.703415",
     "exception": false,
     "start_time": "2023-04-03T16:48:25.572190",
     "status": "completed"
    },
    "tags": []
   },
   "outputs": [
    {
     "data": {
      "text/plain": [
       "LinearDiscriminantAnalysis()"
      ]
     },
     "execution_count": 51,
     "metadata": {},
     "output_type": "execute_result"
    }
   ],
   "source": [
    "model1 = LDA()\n",
    "model1.fit(xtrain, ytrain)"
   ]
  },
  {
   "cell_type": "markdown",
   "id": "7aecfa3c",
   "metadata": {
    "papermill": {
     "duration": 0.049623,
     "end_time": "2023-04-03T16:48:25.825021",
     "exception": false,
     "start_time": "2023-04-03T16:48:25.775398",
     "status": "completed"
    },
    "tags": []
   },
   "source": [
    "5 fold cross validation"
   ]
  },
  {
   "cell_type": "code",
   "execution_count": 52,
   "id": "c604e496",
   "metadata": {
    "execution": {
     "iopub.execute_input": "2023-04-03T16:48:25.884048Z",
     "iopub.status.busy": "2023-04-03T16:48:25.883506Z",
     "iopub.status.idle": "2023-04-03T16:48:26.506125Z",
     "shell.execute_reply": "2023-04-03T16:48:26.504158Z"
    },
    "papermill": {
     "duration": 0.657747,
     "end_time": "2023-04-03T16:48:26.512345",
     "exception": false,
     "start_time": "2023-04-03T16:48:25.854598",
     "status": "completed"
    },
    "tags": []
   },
   "outputs": [],
   "source": [
    "scores1 = cross_val_score(model1, xtrain, ytrain, cv=5)"
   ]
  },
  {
   "cell_type": "code",
   "execution_count": 53,
   "id": "798dd8c1",
   "metadata": {
    "execution": {
     "iopub.execute_input": "2023-04-03T16:48:26.639278Z",
     "iopub.status.busy": "2023-04-03T16:48:26.638735Z",
     "iopub.status.idle": "2023-04-03T16:48:26.647447Z",
     "shell.execute_reply": "2023-04-03T16:48:26.645870Z"
    },
    "papermill": {
     "duration": 0.06936,
     "end_time": "2023-04-03T16:48:26.651862",
     "exception": false,
     "start_time": "2023-04-03T16:48:26.582502",
     "status": "completed"
    },
    "tags": []
   },
   "outputs": [
    {
     "name": "stdout",
     "output_type": "stream",
     "text": [
      "Cross-validation scores: [0.67013575 0.65701357 0.65746606 0.6645541  0.65414215]\n",
      "Mean cross-validation score: 0.6606623254518229\n"
     ]
    }
   ],
   "source": [
    "print('Cross-validation scores:', scores1)\n",
    "print('Mean cross-validation score:', scores1.mean())"
   ]
  },
  {
   "cell_type": "code",
   "execution_count": 54,
   "id": "a29d17c0",
   "metadata": {
    "execution": {
     "iopub.execute_input": "2023-04-03T16:48:26.712471Z",
     "iopub.status.busy": "2023-04-03T16:48:26.711351Z",
     "iopub.status.idle": "2023-04-03T16:48:26.718215Z",
     "shell.execute_reply": "2023-04-03T16:48:26.716719Z"
    },
    "papermill": {
     "duration": 0.040391,
     "end_time": "2023-04-03T16:48:26.721191",
     "exception": false,
     "start_time": "2023-04-03T16:48:26.680800",
     "status": "completed"
    },
    "tags": []
   },
   "outputs": [],
   "source": [
    "from sklearn.ensemble import VotingClassifier\n",
    "from sklearn.neighbors import KNeighborsClassifier\n",
    "from sklearn.linear_model import LogisticRegression\n",
    "from sklearn.model_selection import cross_val_score\n",
    "from sklearn.utils import shuffle"
   ]
  },
  {
   "cell_type": "code",
   "execution_count": 55,
   "id": "ae54f63a",
   "metadata": {
    "execution": {
     "iopub.execute_input": "2023-04-03T16:48:26.778872Z",
     "iopub.status.busy": "2023-04-03T16:48:26.777880Z",
     "iopub.status.idle": "2023-04-03T16:48:26.787219Z",
     "shell.execute_reply": "2023-04-03T16:48:26.785939Z"
    },
    "papermill": {
     "duration": 0.043181,
     "end_time": "2023-04-03T16:48:26.791755",
     "exception": false,
     "start_time": "2023-04-03T16:48:26.748574",
     "status": "completed"
    },
    "tags": []
   },
   "outputs": [],
   "source": [
    "xtrain, ytrain = shuffle(xtrain, ytrain, random_state=0)"
   ]
  },
  {
   "cell_type": "code",
   "execution_count": 56,
   "id": "cd7e92d1",
   "metadata": {
    "execution": {
     "iopub.execute_input": "2023-04-03T16:48:26.851919Z",
     "iopub.status.busy": "2023-04-03T16:48:26.851342Z",
     "iopub.status.idle": "2023-04-03T16:48:35.015322Z",
     "shell.execute_reply": "2023-04-03T16:48:35.013076Z"
    },
    "papermill": {
     "duration": 8.199337,
     "end_time": "2023-04-03T16:48:35.021160",
     "exception": false,
     "start_time": "2023-04-03T16:48:26.821823",
     "status": "completed"
    },
    "tags": []
   },
   "outputs": [],
   "source": [
    "model=VotingClassifier(estimators=[\n",
    "    ('lr', LogisticRegression(solver='liblinear',penalty='l2', random_state=0) ),\n",
    "    ('kn', KNeighborsClassifier(n_neighbors=50)),\n",
    "    ],\n",
    "    voting='soft')\n",
    "model.fit(xtrain, ytrain)\n",
    "res = cross_val_score(model, xtrain, ytrain, cv=35)"
   ]
  },
  {
   "cell_type": "code",
   "execution_count": 57,
   "id": "7621c86a",
   "metadata": {
    "execution": {
     "iopub.execute_input": "2023-04-03T16:48:35.081478Z",
     "iopub.status.busy": "2023-04-03T16:48:35.080557Z",
     "iopub.status.idle": "2023-04-03T16:48:35.089889Z",
     "shell.execute_reply": "2023-04-03T16:48:35.088400Z"
    },
    "papermill": {
     "duration": 0.043778,
     "end_time": "2023-04-03T16:48:35.093594",
     "exception": false,
     "start_time": "2023-04-03T16:48:35.049816",
     "status": "completed"
    },
    "tags": []
   },
   "outputs": [
    {
     "data": {
      "text/plain": [
       "0.6611154166307873"
      ]
     },
     "execution_count": 57,
     "metadata": {},
     "output_type": "execute_result"
    }
   ],
   "source": [
    "res.mean()"
   ]
  },
  {
   "cell_type": "markdown",
   "id": "41509373",
   "metadata": {
    "papermill": {
     "duration": 0.029208,
     "end_time": "2023-04-03T16:48:35.152388",
     "exception": false,
     "start_time": "2023-04-03T16:48:35.123180",
     "status": "completed"
    },
    "tags": []
   },
   "source": [
    "fit model to training data"
   ]
  },
  {
   "cell_type": "code",
   "execution_count": 58,
   "id": "36eae1b6",
   "metadata": {
    "execution": {
     "iopub.execute_input": "2023-04-03T16:48:35.215362Z",
     "iopub.status.busy": "2023-04-03T16:48:35.214837Z",
     "iopub.status.idle": "2023-04-03T16:48:35.319323Z",
     "shell.execute_reply": "2023-04-03T16:48:35.317822Z"
    },
    "papermill": {
     "duration": 0.140959,
     "end_time": "2023-04-03T16:48:35.322463",
     "exception": false,
     "start_time": "2023-04-03T16:48:35.181504",
     "status": "completed"
    },
    "tags": []
   },
   "outputs": [
    {
     "data": {
      "text/plain": [
       "VotingClassifier(estimators=[('lr',\n",
       "                              LogisticRegression(random_state=0,\n",
       "                                                 solver='liblinear')),\n",
       "                             ('kn', KNeighborsClassifier(n_neighbors=50))],\n",
       "                 voting='soft')"
      ]
     },
     "execution_count": 58,
     "metadata": {},
     "output_type": "execute_result"
    }
   ],
   "source": [
    "model.fit(xtrain, ytrain)  "
   ]
  },
  {
   "cell_type": "markdown",
   "id": "da82a6bd",
   "metadata": {
    "papermill": {
     "duration": 0.027314,
     "end_time": "2023-04-03T16:48:35.377113",
     "exception": false,
     "start_time": "2023-04-03T16:48:35.349799",
     "status": "completed"
    },
    "tags": []
   },
   "source": [
    "Random Forest CLassifier / hyperparameter tuning"
   ]
  },
  {
   "cell_type": "code",
   "execution_count": 59,
   "id": "7712093e",
   "metadata": {
    "execution": {
     "iopub.execute_input": "2023-04-03T16:48:35.438133Z",
     "iopub.status.busy": "2023-04-03T16:48:35.436888Z",
     "iopub.status.idle": "2023-04-03T16:48:35.534716Z",
     "shell.execute_reply": "2023-04-03T16:48:35.533536Z"
    },
    "papermill": {
     "duration": 0.131218,
     "end_time": "2023-04-03T16:48:35.538117",
     "exception": false,
     "start_time": "2023-04-03T16:48:35.406899",
     "status": "completed"
    },
    "tags": []
   },
   "outputs": [],
   "source": [
    "from sklearn.ensemble import RandomForestClassifier\n",
    "from sklearn.model_selection import RandomizedSearchCV\n",
    "from sklearn.datasets import load_iris"
   ]
  },
  {
   "cell_type": "markdown",
   "id": "47242d1c",
   "metadata": {
    "papermill": {
     "duration": 0.02763,
     "end_time": "2023-04-03T16:48:35.594063",
     "exception": false,
     "start_time": "2023-04-03T16:48:35.566433",
     "status": "completed"
    },
    "tags": []
   },
   "source": [
    "Load iris dataset"
   ]
  },
  {
   "cell_type": "code",
   "execution_count": 60,
   "id": "9dd41964",
   "metadata": {
    "execution": {
     "iopub.execute_input": "2023-04-03T16:48:35.652725Z",
     "iopub.status.busy": "2023-04-03T16:48:35.652162Z",
     "iopub.status.idle": "2023-04-03T16:48:35.663111Z",
     "shell.execute_reply": "2023-04-03T16:48:35.662071Z"
    },
    "papermill": {
     "duration": 0.043614,
     "end_time": "2023-04-03T16:48:35.665803",
     "exception": false,
     "start_time": "2023-04-03T16:48:35.622189",
     "status": "completed"
    },
    "tags": []
   },
   "outputs": [],
   "source": [
    "iris = load_iris()\n",
    "X = iris.data\n",
    "y = iris.target"
   ]
  },
  {
   "cell_type": "markdown",
   "id": "f9de308f",
   "metadata": {
    "papermill": {
     "duration": 0.027311,
     "end_time": "2023-04-03T16:48:35.721324",
     "exception": false,
     "start_time": "2023-04-03T16:48:35.694013",
     "status": "completed"
    },
    "tags": []
   },
   "source": [
    "Define hyperparameter grid"
   ]
  },
  {
   "cell_type": "code",
   "execution_count": 61,
   "id": "ca403cc4",
   "metadata": {
    "execution": {
     "iopub.execute_input": "2023-04-03T16:48:35.779699Z",
     "iopub.status.busy": "2023-04-03T16:48:35.779155Z",
     "iopub.status.idle": "2023-04-03T16:48:35.785742Z",
     "shell.execute_reply": "2023-04-03T16:48:35.784700Z"
    },
    "papermill": {
     "duration": 0.039431,
     "end_time": "2023-04-03T16:48:35.788059",
     "exception": false,
     "start_time": "2023-04-03T16:48:35.748628",
     "status": "completed"
    },
    "tags": []
   },
   "outputs": [],
   "source": [
    "param_dist = {\n",
    "    'n_estimators': [50, 100, 200],\n",
    "    'max_features': ['auto', 'sqrt', 'log2'],\n",
    "    'max_depth': [10, 20, 30, None],\n",
    "    'min_samples_split': [2, 5, 10],\n",
    "    'min_samples_leaf': [1, 2, 4],\n",
    "    'bootstrap': [True, False],\n",
    "    'criterion': ['gini', 'entropy']\n",
    "}"
   ]
  },
  {
   "cell_type": "markdown",
   "id": "3c8e5158",
   "metadata": {
    "papermill": {
     "duration": 0.027274,
     "end_time": "2023-04-03T16:48:35.842841",
     "exception": false,
     "start_time": "2023-04-03T16:48:35.815567",
     "status": "completed"
    },
    "tags": []
   },
   "source": [
    "Instantiate random forest classifier"
   ]
  },
  {
   "cell_type": "code",
   "execution_count": 62,
   "id": "f758ea00",
   "metadata": {
    "execution": {
     "iopub.execute_input": "2023-04-03T16:48:35.901891Z",
     "iopub.status.busy": "2023-04-03T16:48:35.900509Z",
     "iopub.status.idle": "2023-04-03T16:48:35.905964Z",
     "shell.execute_reply": "2023-04-03T16:48:35.905016Z"
    },
    "papermill": {
     "duration": 0.038318,
     "end_time": "2023-04-03T16:48:35.908458",
     "exception": false,
     "start_time": "2023-04-03T16:48:35.870140",
     "status": "completed"
    },
    "tags": []
   },
   "outputs": [],
   "source": [
    "rf = RandomForestClassifier()"
   ]
  },
  {
   "cell_type": "markdown",
   "id": "0534f08c",
   "metadata": {
    "papermill": {
     "duration": 0.027046,
     "end_time": "2023-04-03T16:48:35.962787",
     "exception": false,
     "start_time": "2023-04-03T16:48:35.935741",
     "status": "completed"
    },
    "tags": []
   },
   "source": [
    "Instantiate randomized search CV"
   ]
  },
  {
   "cell_type": "code",
   "execution_count": 63,
   "id": "1b0383fe",
   "metadata": {
    "execution": {
     "iopub.execute_input": "2023-04-03T16:48:36.022702Z",
     "iopub.status.busy": "2023-04-03T16:48:36.021192Z",
     "iopub.status.idle": "2023-04-03T16:48:36.027670Z",
     "shell.execute_reply": "2023-04-03T16:48:36.026545Z"
    },
    "papermill": {
     "duration": 0.039618,
     "end_time": "2023-04-03T16:48:36.030438",
     "exception": false,
     "start_time": "2023-04-03T16:48:35.990820",
     "status": "completed"
    },
    "tags": []
   },
   "outputs": [],
   "source": [
    "random_search = RandomizedSearchCV(\n",
    "    rf,\n",
    "    param_distributions=param_dist,\n",
    "    n_iter=20,\n",
    "    cv=5,\n",
    "    random_state=42\n",
    ")"
   ]
  },
  {
   "cell_type": "markdown",
   "id": "14c53d50",
   "metadata": {
    "papermill": {
     "duration": 0.028236,
     "end_time": "2023-04-03T16:48:36.086245",
     "exception": false,
     "start_time": "2023-04-03T16:48:36.058009",
     "status": "completed"
    },
    "tags": []
   },
   "source": [
    " Fit randomized search CV"
   ]
  },
  {
   "cell_type": "code",
   "execution_count": 64,
   "id": "16f3f6b1",
   "metadata": {
    "execution": {
     "iopub.execute_input": "2023-04-03T16:48:36.145966Z",
     "iopub.status.busy": "2023-04-03T16:48:36.144681Z",
     "iopub.status.idle": "2023-04-03T16:48:51.207848Z",
     "shell.execute_reply": "2023-04-03T16:48:51.206363Z"
    },
    "papermill": {
     "duration": 15.097058,
     "end_time": "2023-04-03T16:48:51.211185",
     "exception": false,
     "start_time": "2023-04-03T16:48:36.114127",
     "status": "completed"
    },
    "tags": []
   },
   "outputs": [
    {
     "data": {
      "text/plain": [
       "RandomizedSearchCV(cv=5, estimator=RandomForestClassifier(), n_iter=20,\n",
       "                   param_distributions={'bootstrap': [True, False],\n",
       "                                        'criterion': ['gini', 'entropy'],\n",
       "                                        'max_depth': [10, 20, 30, None],\n",
       "                                        'max_features': ['auto', 'sqrt',\n",
       "                                                         'log2'],\n",
       "                                        'min_samples_leaf': [1, 2, 4],\n",
       "                                        'min_samples_split': [2, 5, 10],\n",
       "                                        'n_estimators': [50, 100, 200]},\n",
       "                   random_state=42)"
      ]
     },
     "execution_count": 64,
     "metadata": {},
     "output_type": "execute_result"
    }
   ],
   "source": [
    "random_search.fit(X, y)"
   ]
  },
  {
   "cell_type": "code",
   "execution_count": 65,
   "id": "defdf8f4",
   "metadata": {
    "execution": {
     "iopub.execute_input": "2023-04-03T16:48:51.269721Z",
     "iopub.status.busy": "2023-04-03T16:48:51.269156Z",
     "iopub.status.idle": "2023-04-03T16:48:51.276165Z",
     "shell.execute_reply": "2023-04-03T16:48:51.274827Z"
    },
    "papermill": {
     "duration": 0.040104,
     "end_time": "2023-04-03T16:48:51.279179",
     "exception": false,
     "start_time": "2023-04-03T16:48:51.239075",
     "status": "completed"
    },
    "tags": []
   },
   "outputs": [
    {
     "name": "stdout",
     "output_type": "stream",
     "text": [
      "Best parameters: {'n_estimators': 50, 'min_samples_split': 5, 'min_samples_leaf': 1, 'max_features': 'log2', 'max_depth': 10, 'criterion': 'entropy', 'bootstrap': False}\n",
      "Best score: 0.9666666666666668\n"
     ]
    }
   ],
   "source": [
    "print('Best parameters:', random_search.best_params_)\n",
    "print('Best score:', random_search.best_score_)"
   ]
  },
  {
   "cell_type": "markdown",
   "id": "66675435",
   "metadata": {
    "papermill": {
     "duration": 0.027654,
     "end_time": "2023-04-03T16:48:51.335233",
     "exception": false,
     "start_time": "2023-04-03T16:48:51.307579",
     "status": "completed"
    },
    "tags": []
   },
   "source": [
    "Predictions"
   ]
  },
  {
   "cell_type": "code",
   "execution_count": 66,
   "id": "07ba1ee2",
   "metadata": {
    "execution": {
     "iopub.execute_input": "2023-04-03T16:48:51.394381Z",
     "iopub.status.busy": "2023-04-03T16:48:51.393895Z",
     "iopub.status.idle": "2023-04-03T16:48:53.281158Z",
     "shell.execute_reply": "2023-04-03T16:48:53.280094Z"
    },
    "papermill": {
     "duration": 1.920019,
     "end_time": "2023-04-03T16:48:53.283881",
     "exception": false,
     "start_time": "2023-04-03T16:48:51.363862",
     "status": "completed"
    },
    "tags": []
   },
   "outputs": [
    {
     "data": {
      "text/plain": [
       "array([False, False, False, ..., False, False, False])"
      ]
     },
     "execution_count": 66,
     "metadata": {},
     "output_type": "execute_result"
    }
   ],
   "source": [
    "ypred = model.predict(test_df)\n",
    "ypred = ypred.astype(bool)\n",
    "ypred"
   ]
  },
  {
   "cell_type": "markdown",
   "id": "92be9411",
   "metadata": {
    "papermill": {
     "duration": 0.027441,
     "end_time": "2023-04-03T16:48:53.339126",
     "exception": false,
     "start_time": "2023-04-03T16:48:53.311685",
     "status": "completed"
    },
    "tags": []
   },
   "source": [
    "Submissions"
   ]
  },
  {
   "cell_type": "code",
   "execution_count": 67,
   "id": "ed953065",
   "metadata": {
    "execution": {
     "iopub.execute_input": "2023-04-03T16:48:53.402301Z",
     "iopub.status.busy": "2023-04-03T16:48:53.400910Z",
     "iopub.status.idle": "2023-04-03T16:48:53.435426Z",
     "shell.execute_reply": "2023-04-03T16:48:53.433974Z"
    },
    "papermill": {
     "duration": 0.068801,
     "end_time": "2023-04-03T16:48:53.439056",
     "exception": false,
     "start_time": "2023-04-03T16:48:53.370255",
     "status": "completed"
    },
    "tags": []
   },
   "outputs": [],
   "source": [
    "submission=pd.DataFrame(columns=['id', 'Made_Purchase'])\n",
    "submission['id']=[i for i in range(len(ypred))]\n",
    "submission[\"Made_Purchase\"]=[i for i in ypred]\n",
    "submission.to_csv('submission.csv',index=False)"
   ]
  },
  {
   "cell_type": "code",
   "execution_count": 68,
   "id": "f4cc30e9",
   "metadata": {
    "execution": {
     "iopub.execute_input": "2023-04-03T16:48:53.497863Z",
     "iopub.status.busy": "2023-04-03T16:48:53.497308Z",
     "iopub.status.idle": "2023-04-03T16:48:53.512066Z",
     "shell.execute_reply": "2023-04-03T16:48:53.510962Z"
    },
    "papermill": {
     "duration": 0.047847,
     "end_time": "2023-04-03T16:48:53.514812",
     "exception": false,
     "start_time": "2023-04-03T16:48:53.466965",
     "status": "completed"
    },
    "tags": []
   },
   "outputs": [
    {
     "data": {
      "text/html": [
       "<div>\n",
       "<style scoped>\n",
       "    .dataframe tbody tr th:only-of-type {\n",
       "        vertical-align: middle;\n",
       "    }\n",
       "\n",
       "    .dataframe tbody tr th {\n",
       "        vertical-align: top;\n",
       "    }\n",
       "\n",
       "    .dataframe thead th {\n",
       "        text-align: right;\n",
       "    }\n",
       "</style>\n",
       "<table border=\"1\" class=\"dataframe\">\n",
       "  <thead>\n",
       "    <tr style=\"text-align: right;\">\n",
       "      <th></th>\n",
       "      <th>id</th>\n",
       "      <th>Made_Purchase</th>\n",
       "    </tr>\n",
       "  </thead>\n",
       "  <tbody>\n",
       "    <tr>\n",
       "      <th>0</th>\n",
       "      <td>0</td>\n",
       "      <td>False</td>\n",
       "    </tr>\n",
       "    <tr>\n",
       "      <th>1</th>\n",
       "      <td>1</td>\n",
       "      <td>False</td>\n",
       "    </tr>\n",
       "    <tr>\n",
       "      <th>2</th>\n",
       "      <td>2</td>\n",
       "      <td>False</td>\n",
       "    </tr>\n",
       "    <tr>\n",
       "      <th>3</th>\n",
       "      <td>3</td>\n",
       "      <td>False</td>\n",
       "    </tr>\n",
       "    <tr>\n",
       "      <th>4</th>\n",
       "      <td>4</td>\n",
       "      <td>False</td>\n",
       "    </tr>\n",
       "    <tr>\n",
       "      <th>...</th>\n",
       "      <td>...</td>\n",
       "      <td>...</td>\n",
       "    </tr>\n",
       "    <tr>\n",
       "      <th>6594</th>\n",
       "      <td>6594</td>\n",
       "      <td>False</td>\n",
       "    </tr>\n",
       "    <tr>\n",
       "      <th>6595</th>\n",
       "      <td>6595</td>\n",
       "      <td>False</td>\n",
       "    </tr>\n",
       "    <tr>\n",
       "      <th>6596</th>\n",
       "      <td>6596</td>\n",
       "      <td>False</td>\n",
       "    </tr>\n",
       "    <tr>\n",
       "      <th>6597</th>\n",
       "      <td>6597</td>\n",
       "      <td>False</td>\n",
       "    </tr>\n",
       "    <tr>\n",
       "      <th>6598</th>\n",
       "      <td>6598</td>\n",
       "      <td>False</td>\n",
       "    </tr>\n",
       "  </tbody>\n",
       "</table>\n",
       "<p>6599 rows × 2 columns</p>\n",
       "</div>"
      ],
      "text/plain": [
       "        id  Made_Purchase\n",
       "0        0          False\n",
       "1        1          False\n",
       "2        2          False\n",
       "3        3          False\n",
       "4        4          False\n",
       "...    ...            ...\n",
       "6594  6594          False\n",
       "6595  6595          False\n",
       "6596  6596          False\n",
       "6597  6597          False\n",
       "6598  6598          False\n",
       "\n",
       "[6599 rows x 2 columns]"
      ]
     },
     "execution_count": 68,
     "metadata": {},
     "output_type": "execute_result"
    }
   ],
   "source": [
    "submission"
   ]
  }
 ],
 "metadata": {
  "kernelspec": {
   "display_name": "Python 3",
   "language": "python",
   "name": "python3"
  },
  "language_info": {
   "codemirror_mode": {
    "name": "ipython",
    "version": 3
   },
   "file_extension": ".py",
   "mimetype": "text/x-python",
   "name": "python",
   "nbconvert_exporter": "python",
   "pygments_lexer": "ipython3",
   "version": "3.7.12"
  },
  "papermill": {
   "default_parameters": {},
   "duration": 155.250957,
   "end_time": "2023-04-03T16:48:54.974600",
   "environment_variables": {},
   "exception": null,
   "input_path": "__notebook__.ipynb",
   "output_path": "__notebook__.ipynb",
   "parameters": {},
   "start_time": "2023-04-03T16:46:19.723643",
   "version": "2.4.0"
  }
 },
 "nbformat": 4,
 "nbformat_minor": 5
}
